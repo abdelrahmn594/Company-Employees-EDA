{
 "cells": [
  {
   "cell_type": "code",
   "execution_count": 5,
   "metadata": {},
   "outputs": [],
   "source": [
    "import numpy as np\n",
    "import pandas as pd \n",
    "import matplotlib.pyplot as plt\n",
    "import seaborn as sns\n"
   ]
  },
  {
   "cell_type": "markdown",
   "metadata": {},
   "source": [
    "## ***Univariate Analysis***"
   ]
  },
  {
   "cell_type": "code",
   "execution_count": 6,
   "metadata": {},
   "outputs": [
    {
     "data": {
      "text/html": [
       "<div>\n",
       "<style scoped>\n",
       "    .dataframe tbody tr th:only-of-type {\n",
       "        vertical-align: middle;\n",
       "    }\n",
       "\n",
       "    .dataframe tbody tr th {\n",
       "        vertical-align: top;\n",
       "    }\n",
       "\n",
       "    .dataframe thead th {\n",
       "        text-align: right;\n",
       "    }\n",
       "</style>\n",
       "<table border=\"1\" class=\"dataframe\">\n",
       "  <thead>\n",
       "    <tr style=\"text-align: right;\">\n",
       "      <th></th>\n",
       "      <th>No</th>\n",
       "      <th>First Name</th>\n",
       "      <th>Last Name</th>\n",
       "      <th>Gender</th>\n",
       "      <th>Start Date</th>\n",
       "      <th>Years</th>\n",
       "      <th>Department</th>\n",
       "      <th>Country</th>\n",
       "      <th>Center</th>\n",
       "      <th>Monthly Salary</th>\n",
       "      <th>Annual Salary</th>\n",
       "      <th>Job Rate</th>\n",
       "      <th>Sick Leaves</th>\n",
       "      <th>Unpaid Leaves</th>\n",
       "      <th>Overtime Hours</th>\n",
       "    </tr>\n",
       "  </thead>\n",
       "  <tbody>\n",
       "    <tr>\n",
       "      <th>0</th>\n",
       "      <td>1</td>\n",
       "      <td>Ghadir</td>\n",
       "      <td>Hmshw</td>\n",
       "      <td>Male</td>\n",
       "      <td>2018-04-04</td>\n",
       "      <td>2</td>\n",
       "      <td>Quality Control</td>\n",
       "      <td>Egypt</td>\n",
       "      <td>West</td>\n",
       "      <td>1560</td>\n",
       "      <td>18720</td>\n",
       "      <td>3.0</td>\n",
       "      <td>1</td>\n",
       "      <td>0</td>\n",
       "      <td>183</td>\n",
       "    </tr>\n",
       "    <tr>\n",
       "      <th>1</th>\n",
       "      <td>2</td>\n",
       "      <td>Omar</td>\n",
       "      <td>Hishan</td>\n",
       "      <td>Male</td>\n",
       "      <td>2020-05-21</td>\n",
       "      <td>0</td>\n",
       "      <td>Quality Control</td>\n",
       "      <td>Saudi Arabia</td>\n",
       "      <td>West</td>\n",
       "      <td>3247</td>\n",
       "      <td>38964</td>\n",
       "      <td>1.0</td>\n",
       "      <td>0</td>\n",
       "      <td>5</td>\n",
       "      <td>198</td>\n",
       "    </tr>\n",
       "    <tr>\n",
       "      <th>2</th>\n",
       "      <td>3</td>\n",
       "      <td>Ailya</td>\n",
       "      <td>Sharaf</td>\n",
       "      <td>Female</td>\n",
       "      <td>2017-09-28</td>\n",
       "      <td>3</td>\n",
       "      <td>Major Mfg Projects</td>\n",
       "      <td>Saudi Arabia</td>\n",
       "      <td>West</td>\n",
       "      <td>2506</td>\n",
       "      <td>30072</td>\n",
       "      <td>2.0</td>\n",
       "      <td>0</td>\n",
       "      <td>3</td>\n",
       "      <td>192</td>\n",
       "    </tr>\n",
       "    <tr>\n",
       "      <th>3</th>\n",
       "      <td>4</td>\n",
       "      <td>Lwiy</td>\n",
       "      <td>Qbany</td>\n",
       "      <td>Male</td>\n",
       "      <td>2018-08-14</td>\n",
       "      <td>2</td>\n",
       "      <td>Manufacturing</td>\n",
       "      <td>United Arab Emirates</td>\n",
       "      <td>Main</td>\n",
       "      <td>1828</td>\n",
       "      <td>21936</td>\n",
       "      <td>3.0</td>\n",
       "      <td>0</td>\n",
       "      <td>0</td>\n",
       "      <td>7</td>\n",
       "    </tr>\n",
       "    <tr>\n",
       "      <th>4</th>\n",
       "      <td>5</td>\n",
       "      <td>Ahmad</td>\n",
       "      <td>Bikri</td>\n",
       "      <td>Male</td>\n",
       "      <td>2020-03-11</td>\n",
       "      <td>0</td>\n",
       "      <td>Manufacturing</td>\n",
       "      <td>Egypt</td>\n",
       "      <td>Main</td>\n",
       "      <td>970</td>\n",
       "      <td>11640</td>\n",
       "      <td>5.0</td>\n",
       "      <td>0</td>\n",
       "      <td>5</td>\n",
       "      <td>121</td>\n",
       "    </tr>\n",
       "    <tr>\n",
       "      <th>...</th>\n",
       "      <td>...</td>\n",
       "      <td>...</td>\n",
       "      <td>...</td>\n",
       "      <td>...</td>\n",
       "      <td>...</td>\n",
       "      <td>...</td>\n",
       "      <td>...</td>\n",
       "      <td>...</td>\n",
       "      <td>...</td>\n",
       "      <td>...</td>\n",
       "      <td>...</td>\n",
       "      <td>...</td>\n",
       "      <td>...</td>\n",
       "      <td>...</td>\n",
       "      <td>...</td>\n",
       "    </tr>\n",
       "    <tr>\n",
       "      <th>684</th>\n",
       "      <td>685</td>\n",
       "      <td>Sari</td>\n",
       "      <td>Hanna</td>\n",
       "      <td>Male</td>\n",
       "      <td>2020-05-26</td>\n",
       "      <td>0</td>\n",
       "      <td>Marketing</td>\n",
       "      <td>Lebanon</td>\n",
       "      <td>South</td>\n",
       "      <td>1452</td>\n",
       "      <td>17424</td>\n",
       "      <td>2.0</td>\n",
       "      <td>0</td>\n",
       "      <td>3</td>\n",
       "      <td>1</td>\n",
       "    </tr>\n",
       "    <tr>\n",
       "      <th>685</th>\n",
       "      <td>686</td>\n",
       "      <td>Eubayda</td>\n",
       "      <td>Kayd</td>\n",
       "      <td>Male</td>\n",
       "      <td>2020-06-03</td>\n",
       "      <td>0</td>\n",
       "      <td>Facilities/Engineering</td>\n",
       "      <td>Egypt</td>\n",
       "      <td>North</td>\n",
       "      <td>3237</td>\n",
       "      <td>38844</td>\n",
       "      <td>3.0</td>\n",
       "      <td>1</td>\n",
       "      <td>0</td>\n",
       "      <td>4</td>\n",
       "    </tr>\n",
       "    <tr>\n",
       "      <th>686</th>\n",
       "      <td>687</td>\n",
       "      <td>Khalil</td>\n",
       "      <td>Alkalu</td>\n",
       "      <td>Male</td>\n",
       "      <td>2017-07-11</td>\n",
       "      <td>3</td>\n",
       "      <td>Facilities/Engineering</td>\n",
       "      <td>Egypt</td>\n",
       "      <td>North</td>\n",
       "      <td>2819</td>\n",
       "      <td>33828</td>\n",
       "      <td>5.0</td>\n",
       "      <td>0</td>\n",
       "      <td>0</td>\n",
       "      <td>0</td>\n",
       "    </tr>\n",
       "    <tr>\n",
       "      <th>687</th>\n",
       "      <td>688</td>\n",
       "      <td>Muhamad</td>\n",
       "      <td>Shrbjy</td>\n",
       "      <td>Male</td>\n",
       "      <td>2018-05-30</td>\n",
       "      <td>2</td>\n",
       "      <td>Creative</td>\n",
       "      <td>Egypt</td>\n",
       "      <td>North</td>\n",
       "      <td>2069</td>\n",
       "      <td>24828</td>\n",
       "      <td>3.0</td>\n",
       "      <td>0</td>\n",
       "      <td>0</td>\n",
       "      <td>10</td>\n",
       "    </tr>\n",
       "    <tr>\n",
       "      <th>688</th>\n",
       "      <td>689</td>\n",
       "      <td>Abd Albasit</td>\n",
       "      <td>AlAhmar</td>\n",
       "      <td>Male</td>\n",
       "      <td>2020-08-05</td>\n",
       "      <td>0</td>\n",
       "      <td>IT</td>\n",
       "      <td>United Arab Emirates</td>\n",
       "      <td>North</td>\n",
       "      <td>2606</td>\n",
       "      <td>31272</td>\n",
       "      <td>5.0</td>\n",
       "      <td>0</td>\n",
       "      <td>0</td>\n",
       "      <td>0</td>\n",
       "    </tr>\n",
       "  </tbody>\n",
       "</table>\n",
       "<p>689 rows × 15 columns</p>\n",
       "</div>"
      ],
      "text/plain": [
       "      No   First Name Last Name  Gender Start Date  Years  \\\n",
       "0      1       Ghadir     Hmshw    Male 2018-04-04      2   \n",
       "1      2         Omar    Hishan    Male 2020-05-21      0   \n",
       "2      3        Ailya    Sharaf  Female 2017-09-28      3   \n",
       "3      4         Lwiy     Qbany    Male 2018-08-14      2   \n",
       "4      5        Ahmad     Bikri    Male 2020-03-11      0   \n",
       "..   ...          ...       ...     ...        ...    ...   \n",
       "684  685         Sari     Hanna    Male 2020-05-26      0   \n",
       "685  686      Eubayda      Kayd    Male 2020-06-03      0   \n",
       "686  687       Khalil    Alkalu    Male 2017-07-11      3   \n",
       "687  688      Muhamad    Shrbjy    Male 2018-05-30      2   \n",
       "688  689  Abd Albasit   AlAhmar    Male 2020-08-05      0   \n",
       "\n",
       "                 Department               Country Center  Monthly Salary  \\\n",
       "0           Quality Control                 Egypt   West            1560   \n",
       "1           Quality Control          Saudi Arabia   West            3247   \n",
       "2        Major Mfg Projects          Saudi Arabia   West            2506   \n",
       "3             Manufacturing  United Arab Emirates   Main            1828   \n",
       "4             Manufacturing                 Egypt   Main             970   \n",
       "..                      ...                   ...    ...             ...   \n",
       "684               Marketing               Lebanon  South            1452   \n",
       "685  Facilities/Engineering                 Egypt  North            3237   \n",
       "686  Facilities/Engineering                 Egypt  North            2819   \n",
       "687                Creative                 Egypt  North            2069   \n",
       "688                      IT  United Arab Emirates  North            2606   \n",
       "\n",
       "     Annual Salary  Job Rate  Sick Leaves  Unpaid Leaves  Overtime Hours  \n",
       "0            18720       3.0            1              0             183  \n",
       "1            38964       1.0            0              5             198  \n",
       "2            30072       2.0            0              3             192  \n",
       "3            21936       3.0            0              0               7  \n",
       "4            11640       5.0            0              5             121  \n",
       "..             ...       ...          ...            ...             ...  \n",
       "684          17424       2.0            0              3               1  \n",
       "685          38844       3.0            1              0               4  \n",
       "686          33828       5.0            0              0               0  \n",
       "687          24828       3.0            0              0              10  \n",
       "688          31272       5.0            0              0               0  \n",
       "\n",
       "[689 rows x 15 columns]"
      ]
     },
     "execution_count": 6,
     "metadata": {},
     "output_type": "execute_result"
    }
   ],
   "source": [
    "df = pd.read_excel('Employees.xlsx')\n",
    "df"
   ]
  },
  {
   "cell_type": "code",
   "execution_count": 7,
   "metadata": {},
   "outputs": [
    {
     "data": {
      "text/html": [
       "<div>\n",
       "<style scoped>\n",
       "    .dataframe tbody tr th:only-of-type {\n",
       "        vertical-align: middle;\n",
       "    }\n",
       "\n",
       "    .dataframe tbody tr th {\n",
       "        vertical-align: top;\n",
       "    }\n",
       "\n",
       "    .dataframe thead th {\n",
       "        text-align: right;\n",
       "    }\n",
       "</style>\n",
       "<table border=\"1\" class=\"dataframe\">\n",
       "  <thead>\n",
       "    <tr style=\"text-align: right;\">\n",
       "      <th></th>\n",
       "      <th>No</th>\n",
       "      <th>First Name</th>\n",
       "      <th>Last Name</th>\n",
       "      <th>Gender</th>\n",
       "      <th>Start Date</th>\n",
       "      <th>Years</th>\n",
       "      <th>Department</th>\n",
       "      <th>Country</th>\n",
       "      <th>Center</th>\n",
       "      <th>Monthly Salary</th>\n",
       "      <th>Annual Salary</th>\n",
       "      <th>Job Rate</th>\n",
       "      <th>Sick Leaves</th>\n",
       "      <th>Unpaid Leaves</th>\n",
       "      <th>Overtime Hours</th>\n",
       "    </tr>\n",
       "  </thead>\n",
       "  <tbody>\n",
       "    <tr>\n",
       "      <th>0</th>\n",
       "      <td>1</td>\n",
       "      <td>Ghadir</td>\n",
       "      <td>Hmshw</td>\n",
       "      <td>Male</td>\n",
       "      <td>2018-04-04</td>\n",
       "      <td>2</td>\n",
       "      <td>Quality Control</td>\n",
       "      <td>Egypt</td>\n",
       "      <td>West</td>\n",
       "      <td>1560</td>\n",
       "      <td>18720</td>\n",
       "      <td>3.0</td>\n",
       "      <td>1</td>\n",
       "      <td>0</td>\n",
       "      <td>183</td>\n",
       "    </tr>\n",
       "    <tr>\n",
       "      <th>1</th>\n",
       "      <td>2</td>\n",
       "      <td>Omar</td>\n",
       "      <td>Hishan</td>\n",
       "      <td>Male</td>\n",
       "      <td>2020-05-21</td>\n",
       "      <td>0</td>\n",
       "      <td>Quality Control</td>\n",
       "      <td>Saudi Arabia</td>\n",
       "      <td>West</td>\n",
       "      <td>3247</td>\n",
       "      <td>38964</td>\n",
       "      <td>1.0</td>\n",
       "      <td>0</td>\n",
       "      <td>5</td>\n",
       "      <td>198</td>\n",
       "    </tr>\n",
       "    <tr>\n",
       "      <th>2</th>\n",
       "      <td>3</td>\n",
       "      <td>Ailya</td>\n",
       "      <td>Sharaf</td>\n",
       "      <td>Female</td>\n",
       "      <td>2017-09-28</td>\n",
       "      <td>3</td>\n",
       "      <td>Major Mfg Projects</td>\n",
       "      <td>Saudi Arabia</td>\n",
       "      <td>West</td>\n",
       "      <td>2506</td>\n",
       "      <td>30072</td>\n",
       "      <td>2.0</td>\n",
       "      <td>0</td>\n",
       "      <td>3</td>\n",
       "      <td>192</td>\n",
       "    </tr>\n",
       "    <tr>\n",
       "      <th>3</th>\n",
       "      <td>4</td>\n",
       "      <td>Lwiy</td>\n",
       "      <td>Qbany</td>\n",
       "      <td>Male</td>\n",
       "      <td>2018-08-14</td>\n",
       "      <td>2</td>\n",
       "      <td>Manufacturing</td>\n",
       "      <td>United Arab Emirates</td>\n",
       "      <td>Main</td>\n",
       "      <td>1828</td>\n",
       "      <td>21936</td>\n",
       "      <td>3.0</td>\n",
       "      <td>0</td>\n",
       "      <td>0</td>\n",
       "      <td>7</td>\n",
       "    </tr>\n",
       "    <tr>\n",
       "      <th>4</th>\n",
       "      <td>5</td>\n",
       "      <td>Ahmad</td>\n",
       "      <td>Bikri</td>\n",
       "      <td>Male</td>\n",
       "      <td>2020-03-11</td>\n",
       "      <td>0</td>\n",
       "      <td>Manufacturing</td>\n",
       "      <td>Egypt</td>\n",
       "      <td>Main</td>\n",
       "      <td>970</td>\n",
       "      <td>11640</td>\n",
       "      <td>5.0</td>\n",
       "      <td>0</td>\n",
       "      <td>5</td>\n",
       "      <td>121</td>\n",
       "    </tr>\n",
       "    <tr>\n",
       "      <th>5</th>\n",
       "      <td>6</td>\n",
       "      <td>Muhamad</td>\n",
       "      <td>Zueitr</td>\n",
       "      <td>Male</td>\n",
       "      <td>2016-02-02</td>\n",
       "      <td>4</td>\n",
       "      <td>Product Development</td>\n",
       "      <td>Saudi Arabia</td>\n",
       "      <td>North</td>\n",
       "      <td>2332</td>\n",
       "      <td>27984</td>\n",
       "      <td>3.0</td>\n",
       "      <td>3</td>\n",
       "      <td>0</td>\n",
       "      <td>8</td>\n",
       "    </tr>\n",
       "    <tr>\n",
       "      <th>6</th>\n",
       "      <td>7</td>\n",
       "      <td>Iin</td>\n",
       "      <td>Alhalaliu</td>\n",
       "      <td>Female</td>\n",
       "      <td>2020-05-08</td>\n",
       "      <td>0</td>\n",
       "      <td>Sales</td>\n",
       "      <td>United Arab Emirates</td>\n",
       "      <td>Main</td>\n",
       "      <td>1959</td>\n",
       "      <td>23508</td>\n",
       "      <td>3.0</td>\n",
       "      <td>6</td>\n",
       "      <td>0</td>\n",
       "      <td>116</td>\n",
       "    </tr>\n",
       "    <tr>\n",
       "      <th>7</th>\n",
       "      <td>8</td>\n",
       "      <td>Muhamad</td>\n",
       "      <td>Alaya</td>\n",
       "      <td>Male</td>\n",
       "      <td>2018-02-10</td>\n",
       "      <td>2</td>\n",
       "      <td>Account Management</td>\n",
       "      <td>Egypt</td>\n",
       "      <td>Main</td>\n",
       "      <td>3394</td>\n",
       "      <td>40728</td>\n",
       "      <td>5.0</td>\n",
       "      <td>0</td>\n",
       "      <td>0</td>\n",
       "      <td>7</td>\n",
       "    </tr>\n",
       "    <tr>\n",
       "      <th>8</th>\n",
       "      <td>9</td>\n",
       "      <td>Susin</td>\n",
       "      <td>Almilat</td>\n",
       "      <td>Female</td>\n",
       "      <td>2018-03-11</td>\n",
       "      <td>2</td>\n",
       "      <td>Green Building</td>\n",
       "      <td>Egypt</td>\n",
       "      <td>North</td>\n",
       "      <td>1479</td>\n",
       "      <td>17748</td>\n",
       "      <td>4.5</td>\n",
       "      <td>0</td>\n",
       "      <td>0</td>\n",
       "      <td>105</td>\n",
       "    </tr>\n",
       "    <tr>\n",
       "      <th>9</th>\n",
       "      <td>10</td>\n",
       "      <td>Muhamad</td>\n",
       "      <td>Alrifaei</td>\n",
       "      <td>Male</td>\n",
       "      <td>2020-01-03</td>\n",
       "      <td>1</td>\n",
       "      <td>Account Management</td>\n",
       "      <td>Egypt</td>\n",
       "      <td>Main</td>\n",
       "      <td>1186</td>\n",
       "      <td>14232</td>\n",
       "      <td>4.5</td>\n",
       "      <td>1</td>\n",
       "      <td>0</td>\n",
       "      <td>153</td>\n",
       "    </tr>\n",
       "  </tbody>\n",
       "</table>\n",
       "</div>"
      ],
      "text/plain": [
       "   No First Name  Last Name  Gender Start Date  Years           Department  \\\n",
       "0   1     Ghadir      Hmshw    Male 2018-04-04      2      Quality Control   \n",
       "1   2       Omar     Hishan    Male 2020-05-21      0      Quality Control   \n",
       "2   3      Ailya     Sharaf  Female 2017-09-28      3   Major Mfg Projects   \n",
       "3   4       Lwiy      Qbany    Male 2018-08-14      2        Manufacturing   \n",
       "4   5      Ahmad      Bikri    Male 2020-03-11      0        Manufacturing   \n",
       "5   6    Muhamad     Zueitr    Male 2016-02-02      4  Product Development   \n",
       "6   7        Iin  Alhalaliu  Female 2020-05-08      0                Sales   \n",
       "7   8    Muhamad      Alaya    Male 2018-02-10      2   Account Management   \n",
       "8   9      Susin    Almilat  Female 2018-03-11      2       Green Building   \n",
       "9  10    Muhamad   Alrifaei    Male 2020-01-03      1   Account Management   \n",
       "\n",
       "                Country Center  Monthly Salary  Annual Salary  Job Rate  \\\n",
       "0                 Egypt   West            1560          18720       3.0   \n",
       "1          Saudi Arabia   West            3247          38964       1.0   \n",
       "2          Saudi Arabia   West            2506          30072       2.0   \n",
       "3  United Arab Emirates   Main            1828          21936       3.0   \n",
       "4                 Egypt   Main             970          11640       5.0   \n",
       "5          Saudi Arabia  North            2332          27984       3.0   \n",
       "6  United Arab Emirates   Main            1959          23508       3.0   \n",
       "7                 Egypt   Main            3394          40728       5.0   \n",
       "8                 Egypt  North            1479          17748       4.5   \n",
       "9                 Egypt   Main            1186          14232       4.5   \n",
       "\n",
       "   Sick Leaves  Unpaid Leaves  Overtime Hours  \n",
       "0            1              0             183  \n",
       "1            0              5             198  \n",
       "2            0              3             192  \n",
       "3            0              0               7  \n",
       "4            0              5             121  \n",
       "5            3              0               8  \n",
       "6            6              0             116  \n",
       "7            0              0               7  \n",
       "8            0              0             105  \n",
       "9            1              0             153  "
      ]
     },
     "execution_count": 7,
     "metadata": {},
     "output_type": "execute_result"
    }
   ],
   "source": [
    "df.head(10)"
   ]
  },
  {
   "cell_type": "code",
   "execution_count": 8,
   "metadata": {},
   "outputs": [
    {
     "name": "stdout",
     "output_type": "stream",
     "text": [
      "<class 'pandas.core.frame.DataFrame'>\n",
      "RangeIndex: 689 entries, 0 to 688\n",
      "Data columns (total 15 columns):\n",
      " #   Column          Non-Null Count  Dtype         \n",
      "---  ------          --------------  -----         \n",
      " 0   No              689 non-null    int64         \n",
      " 1   First Name      689 non-null    object        \n",
      " 2   Last Name       689 non-null    object        \n",
      " 3   Gender          689 non-null    object        \n",
      " 4   Start Date      689 non-null    datetime64[ns]\n",
      " 5   Years           689 non-null    int64         \n",
      " 6   Department      689 non-null    object        \n",
      " 7   Country         689 non-null    object        \n",
      " 8   Center          689 non-null    object        \n",
      " 9   Monthly Salary  689 non-null    int64         \n",
      " 10  Annual Salary   689 non-null    int64         \n",
      " 11  Job Rate        689 non-null    float64       \n",
      " 12  Sick Leaves     689 non-null    int64         \n",
      " 13  Unpaid Leaves   689 non-null    int64         \n",
      " 14  Overtime Hours  689 non-null    int64         \n",
      "dtypes: datetime64[ns](1), float64(1), int64(7), object(6)\n",
      "memory usage: 80.9+ KB\n"
     ]
    }
   ],
   "source": [
    "df.info()"
   ]
  },
  {
   "cell_type": "markdown",
   "metadata": {},
   "source": [
    "#### Gender Analysis"
   ]
  },
  {
   "cell_type": "code",
   "execution_count": 9,
   "metadata": {},
   "outputs": [
    {
     "data": {
      "text/html": [
       "<div>\n",
       "<style scoped>\n",
       "    .dataframe tbody tr th:only-of-type {\n",
       "        vertical-align: middle;\n",
       "    }\n",
       "\n",
       "    .dataframe tbody tr th {\n",
       "        vertical-align: top;\n",
       "    }\n",
       "\n",
       "    .dataframe thead th {\n",
       "        text-align: right;\n",
       "    }\n",
       "</style>\n",
       "<table border=\"1\" class=\"dataframe\">\n",
       "  <thead>\n",
       "    <tr style=\"text-align: right;\">\n",
       "      <th></th>\n",
       "      <th>Count</th>\n",
       "      <th>Percentage %</th>\n",
       "    </tr>\n",
       "    <tr>\n",
       "      <th>Gender</th>\n",
       "      <th></th>\n",
       "      <th></th>\n",
       "    </tr>\n",
       "  </thead>\n",
       "  <tbody>\n",
       "    <tr>\n",
       "      <th>Male</th>\n",
       "      <td>449</td>\n",
       "      <td>65.166909</td>\n",
       "    </tr>\n",
       "    <tr>\n",
       "      <th>Female</th>\n",
       "      <td>240</td>\n",
       "      <td>34.833091</td>\n",
       "    </tr>\n",
       "  </tbody>\n",
       "</table>\n",
       "</div>"
      ],
      "text/plain": [
       "        Count  Percentage %\n",
       "Gender                     \n",
       "Male      449     65.166909\n",
       "Female    240     34.833091"
      ]
     },
     "execution_count": 9,
     "metadata": {},
     "output_type": "execute_result"
    }
   ],
   "source": [
    "Gender_count=df.Gender.value_counts()\n",
    "Gender_percent=df.Gender.value_counts(normalize=True)*100\n",
    "freq_table1=pd.DataFrame({'Count':Gender_count,'Percentage %':Gender_percent})\n",
    "freq_table1"
   ]
  },
  {
   "cell_type": "markdown",
   "metadata": {},
   "source": [
    "- Most Employees are males "
   ]
  },
  {
   "cell_type": "markdown",
   "metadata": {},
   "source": [
    "### Years of work Analysis"
   ]
  },
  {
   "cell_type": "code",
   "execution_count": 10,
   "metadata": {},
   "outputs": [
    {
     "data": {
      "text/plain": [
       "Years\n",
       "1    246\n",
       "2    155\n",
       "0    153\n",
       "3     81\n",
       "4     52\n",
       "5      2\n",
       "Name: count, dtype: int64"
      ]
     },
     "execution_count": 10,
     "metadata": {},
     "output_type": "execute_result"
    }
   ],
   "source": [
    "df.Years.value_counts()"
   ]
  },
  {
   "cell_type": "markdown",
   "metadata": {},
   "source": [
    "- Most of the employees are new in the company"
   ]
  },
  {
   "cell_type": "markdown",
   "metadata": {},
   "source": [
    "#### Department Analysis"
   ]
  },
  {
   "cell_type": "code",
   "execution_count": 11,
   "metadata": {},
   "outputs": [
    {
     "data": {
      "text/plain": [
       "Department\n",
       "Manufacturing             140\n",
       "Quality Control            89\n",
       "Account Management         84\n",
       "Quality Assurance          67\n",
       "Facilities/Engineering     58\n",
       "Marketing                  48\n",
       "IT                         40\n",
       "Product Development        34\n",
       "Sales                      20\n",
       "Creative                   19\n",
       "Name: count, dtype: int64"
      ]
     },
     "execution_count": 11,
     "metadata": {},
     "output_type": "execute_result"
    }
   ],
   "source": [
    "df.Department.value_counts().head(10)"
   ]
  },
  {
   "cell_type": "code",
   "execution_count": 150,
   "metadata": {},
   "outputs": [
    {
     "data": {
      "image/png": "[encoded data removed]",
      "text/plain": [
       "<Figure size 640x480 with 1 Axes>"
      ]
     },
     "metadata": {},
     "output_type": "display_data"
    }
   ],
   "source": [
    "sns.countplot(y='Department',palette='inferno',hue='Department',legend=False,data=df)\n",
    "plt.title('Top 10 Departments')\n",
    "plt.ylabel('Departments')\n",
    "plt.xlabel('Freq')\n",
    "plt.show()"
   ]
  },
  {
   "cell_type": "markdown",
   "metadata": {},
   "source": [
    "- Manufacturing is the most common department"
   ]
  },
  {
   "cell_type": "code",
   "execution_count": 13,
   "metadata": {},
   "outputs": [
    {
     "name": "stdout",
     "output_type": "stream",
     "text": [
      "<class 'pandas.core.frame.DataFrame'>\n",
      "RangeIndex: 689 entries, 0 to 688\n",
      "Data columns (total 15 columns):\n",
      " #   Column          Non-Null Count  Dtype         \n",
      "---  ------          --------------  -----         \n",
      " 0   No              689 non-null    int64         \n",
      " 1   First Name      689 non-null    object        \n",
      " 2   Last Name       689 non-null    object        \n",
      " 3   Gender          689 non-null    object        \n",
      " 4   Start Date      689 non-null    datetime64[ns]\n",
      " 5   Years           689 non-null    int64         \n",
      " 6   Department      689 non-null    object        \n",
      " 7   Country         689 non-null    object        \n",
      " 8   Center          689 non-null    object        \n",
      " 9   Monthly Salary  689 non-null    int64         \n",
      " 10  Annual Salary   689 non-null    int64         \n",
      " 11  Job Rate        689 non-null    float64       \n",
      " 12  Sick Leaves     689 non-null    int64         \n",
      " 13  Unpaid Leaves   689 non-null    int64         \n",
      " 14  Overtime Hours  689 non-null    int64         \n",
      "dtypes: datetime64[ns](1), float64(1), int64(7), object(6)\n",
      "memory usage: 80.9+ KB\n"
     ]
    }
   ],
   "source": [
    "df.info()"
   ]
  },
  {
   "cell_type": "markdown",
   "metadata": {},
   "source": [
    "#### Country Analysis"
   ]
  },
  {
   "cell_type": "code",
   "execution_count": 14,
   "metadata": {},
   "outputs": [
    {
     "data": {
      "image/png": "[encoded data removed]",
      "text/plain": [
       "<Figure size 640x480 with 1 Axes>"
      ]
     },
     "metadata": {},
     "output_type": "display_data"
    }
   ],
   "source": [
    "sns.countplot(x='Country',palette='viridis',hue='Country',legend=False,data=df)\n",
    "plt.title('Countries')\n",
    "plt.xlabel('Country')\n",
    "plt.ylabel('Freq')\n",
    "plt.xticks(rotation=45)\n",
    "plt.show()"
   ]
  },
  {
   "cell_type": "markdown",
   "metadata": {},
   "source": [
    "- Egypt is the country with most employees. "
   ]
  },
  {
   "cell_type": "markdown",
   "metadata": {},
   "source": [
    "#### Center Analysis"
   ]
  },
  {
   "cell_type": "code",
   "execution_count": 15,
   "metadata": {},
   "outputs": [
    {
     "data": {
      "text/html": [
       "<div>\n",
       "<style scoped>\n",
       "    .dataframe tbody tr th:only-of-type {\n",
       "        vertical-align: middle;\n",
       "    }\n",
       "\n",
       "    .dataframe tbody tr th {\n",
       "        vertical-align: top;\n",
       "    }\n",
       "\n",
       "    .dataframe thead th {\n",
       "        text-align: right;\n",
       "    }\n",
       "</style>\n",
       "<table border=\"1\" class=\"dataframe\">\n",
       "  <thead>\n",
       "    <tr style=\"text-align: right;\">\n",
       "      <th></th>\n",
       "      <th>Count</th>\n",
       "      <th>Percentage %</th>\n",
       "    </tr>\n",
       "    <tr>\n",
       "      <th>Center</th>\n",
       "      <th></th>\n",
       "      <th></th>\n",
       "    </tr>\n",
       "  </thead>\n",
       "  <tbody>\n",
       "    <tr>\n",
       "      <th>Main</th>\n",
       "      <td>251</td>\n",
       "      <td>36.429608</td>\n",
       "    </tr>\n",
       "    <tr>\n",
       "      <th>North</th>\n",
       "      <td>207</td>\n",
       "      <td>30.043541</td>\n",
       "    </tr>\n",
       "    <tr>\n",
       "      <th>West</th>\n",
       "      <td>119</td>\n",
       "      <td>17.271408</td>\n",
       "    </tr>\n",
       "    <tr>\n",
       "      <th>South</th>\n",
       "      <td>65</td>\n",
       "      <td>9.433962</td>\n",
       "    </tr>\n",
       "    <tr>\n",
       "      <th>East</th>\n",
       "      <td>47</td>\n",
       "      <td>6.821480</td>\n",
       "    </tr>\n",
       "  </tbody>\n",
       "</table>\n",
       "</div>"
      ],
      "text/plain": [
       "        Count  Percentage %\n",
       "Center                     \n",
       "Main      251     36.429608\n",
       "North     207     30.043541\n",
       "West      119     17.271408\n",
       "South      65      9.433962\n",
       "East       47      6.821480"
      ]
     },
     "execution_count": 15,
     "metadata": {},
     "output_type": "execute_result"
    }
   ],
   "source": [
    "center_count=df.Center.value_counts()\n",
    "center_percent=df['Center'].value_counts(normalize=True)*100\n",
    "freq_table2=pd.DataFrame({'Count':center_count,'Percentage %':center_percent})\n",
    "freq_table2"
   ]
  },
  {
   "cell_type": "markdown",
   "metadata": {},
   "source": [
    "- employees are more in the main center department"
   ]
  },
  {
   "cell_type": "markdown",
   "metadata": {},
   "source": [
    "#### Monthly Salary Analysis"
   ]
  },
  {
   "cell_type": "code",
   "execution_count": 16,
   "metadata": {},
   "outputs": [
    {
     "data": {
      "text/plain": [
       "count     689.000000\n",
       "mean     2068.201742\n",
       "std       763.289240\n",
       "min       703.000000\n",
       "25%      1436.000000\n",
       "50%      2077.000000\n",
       "75%      2682.000000\n",
       "max      3450.000000\n",
       "Name: Monthly Salary, dtype: float64"
      ]
     },
     "execution_count": 16,
     "metadata": {},
     "output_type": "execute_result"
    }
   ],
   "source": [
    "df['Monthly Salary'].describe()"
   ]
  },
  {
   "cell_type": "code",
   "execution_count": 17,
   "metadata": {},
   "outputs": [
    {
     "data": {
      "image/png": "[encoded data removed]",
      "text/plain": [
       "<Figure size 1000x600 with 1 Axes>"
      ]
     },
     "metadata": {},
     "output_type": "display_data"
    }
   ],
   "source": [
    "plt.figure(figsize=(10,6))\n",
    "sns.histplot(x='Monthly Salary',data=df)\n",
    "plt.show()"
   ]
  },
  {
   "cell_type": "markdown",
   "metadata": {},
   "source": [
    "- Average Monthly Salary is like 2000 $\n",
    "- The highest salary is 3450 $"
   ]
  },
  {
   "cell_type": "markdown",
   "metadata": {},
   "source": [
    "#### Annual Salary Analysis"
   ]
  },
  {
   "cell_type": "code",
   "execution_count": 18,
   "metadata": {},
   "outputs": [
    {
     "data": {
      "text/plain": [
       "count      689.000000\n",
       "mean     24818.420900\n",
       "std       9159.470878\n",
       "min       8436.000000\n",
       "25%      17232.000000\n",
       "50%      24924.000000\n",
       "75%      32184.000000\n",
       "max      41400.000000\n",
       "Name: Annual Salary, dtype: float64"
      ]
     },
     "execution_count": 18,
     "metadata": {},
     "output_type": "execute_result"
    }
   ],
   "source": [
    "df['Annual Salary'].describe()"
   ]
  },
  {
   "cell_type": "code",
   "execution_count": 19,
   "metadata": {},
   "outputs": [
    {
     "data": {
      "image/png": "[encoded data removed]",
      "text/plain": [
       "<Figure size 1000x600 with 1 Axes>"
      ]
     },
     "metadata": {},
     "output_type": "display_data"
    }
   ],
   "source": [
    "plt.figure(figsize=(10,6))\n",
    "sns.histplot(x='Annual Salary',data=df)\n",
    "plt.show()"
   ]
  },
  {
   "cell_type": "markdown",
   "metadata": {},
   "source": [
    "- Average Annual Salary between employees is 25000 $\n",
    "- Highest Annual Salary 41400 $"
   ]
  },
  {
   "cell_type": "code",
   "execution_count": 21,
   "metadata": {},
   "outputs": [
    {
     "data": {
      "text/plain": [
       "<Axes: xlabel='Job Rate', ylabel='count'>"
      ]
     },
     "execution_count": 21,
     "metadata": {},
     "output_type": "execute_result"
    },
    {
     "data": {
      "image/png": "[encoded data removed]",
      "text/plain": [
       "<Figure size 1000x600 with 1 Axes>"
      ]
     },
     "metadata": {},
     "output_type": "display_data"
    }
   ],
   "source": [
    "plt.figure(figsize=(10,6))\n",
    "sns.countplot(x='Job Rate',hue='Job Rate',palette='cividis',legend=False,data=df)"
   ]
  },
  {
   "cell_type": "markdown",
   "metadata": {},
   "source": [
    "- Most of the Employees have a good rate means that the Company is a Professional one. "
   ]
  },
  {
   "cell_type": "markdown",
   "metadata": {},
   "source": [
    "#### Sick Leaves Analysis"
   ]
  },
  {
   "cell_type": "code",
   "execution_count": 22,
   "metadata": {},
   "outputs": [
    {
     "data": {
      "text/plain": [
       "Sick Leaves\n",
       "0    370\n",
       "1     87\n",
       "6     82\n",
       "5     40\n",
       "2     37\n",
       "4     37\n",
       "3     36\n",
       "Name: count, dtype: int64"
      ]
     },
     "execution_count": 22,
     "metadata": {},
     "output_type": "execute_result"
    }
   ],
   "source": [
    "df['Sick Leaves'].value_counts()"
   ]
  },
  {
   "cell_type": "markdown",
   "metadata": {},
   "source": [
    "#### Unpaid Leaves Analysis"
   ]
  },
  {
   "cell_type": "code",
   "execution_count": 23,
   "metadata": {},
   "outputs": [
    {
     "data": {
      "text/plain": [
       "Unpaid Leaves\n",
       "0    541\n",
       "4     30\n",
       "5     29\n",
       "1     26\n",
       "3     22\n",
       "6     21\n",
       "2     20\n",
       "Name: count, dtype: int64"
      ]
     },
     "execution_count": 23,
     "metadata": {},
     "output_type": "execute_result"
    }
   ],
   "source": [
    "df['Unpaid Leaves'].value_counts()"
   ]
  },
  {
   "cell_type": "markdown",
   "metadata": {},
   "source": [
    "- Employees are serious and rarely to be absent."
   ]
  },
  {
   "cell_type": "markdown",
   "metadata": {},
   "source": [
    "#### Overtime Hours Analysis"
   ]
  },
  {
   "cell_type": "code",
   "execution_count": 24,
   "metadata": {},
   "outputs": [
    {
     "data": {
      "text/plain": [
       "count    689.000000\n",
       "mean      13.702467\n",
       "std       25.692049\n",
       "min        0.000000\n",
       "25%        3.000000\n",
       "50%        7.000000\n",
       "75%       10.000000\n",
       "max      198.000000\n",
       "Name: Overtime Hours, dtype: float64"
      ]
     },
     "execution_count": 24,
     "metadata": {},
     "output_type": "execute_result"
    }
   ],
   "source": [
    "df['Overtime Hours'].describe()"
   ]
  },
  {
   "cell_type": "code",
   "execution_count": 25,
   "metadata": {},
   "outputs": [
    {
     "data": {
      "text/plain": [
       "<Axes: xlabel='Overtime Hours'>"
      ]
     },
     "execution_count": 25,
     "metadata": {},
     "output_type": "execute_result"
    },
    {
     "data": {
      "image/png": "[encoded data removed]",
      "text/plain": [
       "<Figure size 640x480 with 1 Axes>"
      ]
     },
     "metadata": {},
     "output_type": "display_data"
    }
   ],
   "source": [
    "sns.boxplot(df['Overtime Hours'],orient='h',fill=True,color='purple')"
   ]
  },
  {
   "cell_type": "markdown",
   "metadata": {},
   "source": [
    "#### Detect Outliers"
   ]
  },
  {
   "cell_type": "code",
   "execution_count": 26,
   "metadata": {},
   "outputs": [
    {
     "name": "stdout",
     "output_type": "stream",
     "text": [
      "-7.5\n",
      "20.5\n"
     ]
    }
   ],
   "source": [
    "Q1=df['Overtime Hours'].quantile(0.25)\n",
    "Q3=df['Overtime Hours'].quantile(0.75)\n",
    "IQR=Q3-Q1\n",
    "\n",
    "lower=Q1-1.5 * IQR\n",
    "upper=Q3+1.5 * IQR\n",
    "print(lower)\n",
    "print(upper)"
   ]
  },
  {
   "cell_type": "code",
   "execution_count": 27,
   "metadata": {},
   "outputs": [
    {
     "data": {
      "text/html": [
       "<div>\n",
       "<style scoped>\n",
       "    .dataframe tbody tr th:only-of-type {\n",
       "        vertical-align: middle;\n",
       "    }\n",
       "\n",
       "    .dataframe tbody tr th {\n",
       "        vertical-align: top;\n",
       "    }\n",
       "\n",
       "    .dataframe thead th {\n",
       "        text-align: right;\n",
       "    }\n",
       "</style>\n",
       "<table border=\"1\" class=\"dataframe\">\n",
       "  <thead>\n",
       "    <tr style=\"text-align: right;\">\n",
       "      <th></th>\n",
       "      <th>No</th>\n",
       "      <th>First Name</th>\n",
       "      <th>Last Name</th>\n",
       "      <th>Gender</th>\n",
       "      <th>Start Date</th>\n",
       "      <th>Years</th>\n",
       "      <th>Department</th>\n",
       "      <th>Country</th>\n",
       "      <th>Center</th>\n",
       "      <th>Monthly Salary</th>\n",
       "      <th>Annual Salary</th>\n",
       "      <th>Job Rate</th>\n",
       "      <th>Sick Leaves</th>\n",
       "      <th>Unpaid Leaves</th>\n",
       "      <th>Overtime Hours</th>\n",
       "    </tr>\n",
       "  </thead>\n",
       "  <tbody>\n",
       "    <tr>\n",
       "      <th>3</th>\n",
       "      <td>4</td>\n",
       "      <td>Lwiy</td>\n",
       "      <td>Qbany</td>\n",
       "      <td>Male</td>\n",
       "      <td>2018-08-14</td>\n",
       "      <td>2</td>\n",
       "      <td>Manufacturing</td>\n",
       "      <td>United Arab Emirates</td>\n",
       "      <td>Main</td>\n",
       "      <td>1828</td>\n",
       "      <td>21936</td>\n",
       "      <td>3.0</td>\n",
       "      <td>0</td>\n",
       "      <td>0</td>\n",
       "      <td>7</td>\n",
       "    </tr>\n",
       "    <tr>\n",
       "      <th>5</th>\n",
       "      <td>6</td>\n",
       "      <td>Muhamad</td>\n",
       "      <td>Zueitr</td>\n",
       "      <td>Male</td>\n",
       "      <td>2016-02-02</td>\n",
       "      <td>4</td>\n",
       "      <td>Product Development</td>\n",
       "      <td>Saudi Arabia</td>\n",
       "      <td>North</td>\n",
       "      <td>2332</td>\n",
       "      <td>27984</td>\n",
       "      <td>3.0</td>\n",
       "      <td>3</td>\n",
       "      <td>0</td>\n",
       "      <td>8</td>\n",
       "    </tr>\n",
       "    <tr>\n",
       "      <th>7</th>\n",
       "      <td>8</td>\n",
       "      <td>Muhamad</td>\n",
       "      <td>Alaya</td>\n",
       "      <td>Male</td>\n",
       "      <td>2018-02-10</td>\n",
       "      <td>2</td>\n",
       "      <td>Account Management</td>\n",
       "      <td>Egypt</td>\n",
       "      <td>Main</td>\n",
       "      <td>3394</td>\n",
       "      <td>40728</td>\n",
       "      <td>5.0</td>\n",
       "      <td>0</td>\n",
       "      <td>0</td>\n",
       "      <td>7</td>\n",
       "    </tr>\n",
       "    <tr>\n",
       "      <th>10</th>\n",
       "      <td>11</td>\n",
       "      <td>Muhamad</td>\n",
       "      <td>Alqadah</td>\n",
       "      <td>Male</td>\n",
       "      <td>2018-01-16</td>\n",
       "      <td>2</td>\n",
       "      <td>Manufacturing</td>\n",
       "      <td>Syria</td>\n",
       "      <td>Main</td>\n",
       "      <td>1485</td>\n",
       "      <td>17820</td>\n",
       "      <td>2.0</td>\n",
       "      <td>5</td>\n",
       "      <td>0</td>\n",
       "      <td>12</td>\n",
       "    </tr>\n",
       "    <tr>\n",
       "      <th>13</th>\n",
       "      <td>14</td>\n",
       "      <td>Iilian</td>\n",
       "      <td>Dbs</td>\n",
       "      <td>Female</td>\n",
       "      <td>2016-03-01</td>\n",
       "      <td>4</td>\n",
       "      <td>Facilities/Engineering</td>\n",
       "      <td>United Arab Emirates</td>\n",
       "      <td>North</td>\n",
       "      <td>3404</td>\n",
       "      <td>40848</td>\n",
       "      <td>5.0</td>\n",
       "      <td>1</td>\n",
       "      <td>0</td>\n",
       "      <td>8</td>\n",
       "    </tr>\n",
       "    <tr>\n",
       "      <th>...</th>\n",
       "      <td>...</td>\n",
       "      <td>...</td>\n",
       "      <td>...</td>\n",
       "      <td>...</td>\n",
       "      <td>...</td>\n",
       "      <td>...</td>\n",
       "      <td>...</td>\n",
       "      <td>...</td>\n",
       "      <td>...</td>\n",
       "      <td>...</td>\n",
       "      <td>...</td>\n",
       "      <td>...</td>\n",
       "      <td>...</td>\n",
       "      <td>...</td>\n",
       "      <td>...</td>\n",
       "    </tr>\n",
       "    <tr>\n",
       "      <th>684</th>\n",
       "      <td>685</td>\n",
       "      <td>Sari</td>\n",
       "      <td>Hanna</td>\n",
       "      <td>Male</td>\n",
       "      <td>2020-05-26</td>\n",
       "      <td>0</td>\n",
       "      <td>Marketing</td>\n",
       "      <td>Lebanon</td>\n",
       "      <td>South</td>\n",
       "      <td>1452</td>\n",
       "      <td>17424</td>\n",
       "      <td>2.0</td>\n",
       "      <td>0</td>\n",
       "      <td>3</td>\n",
       "      <td>1</td>\n",
       "    </tr>\n",
       "    <tr>\n",
       "      <th>685</th>\n",
       "      <td>686</td>\n",
       "      <td>Eubayda</td>\n",
       "      <td>Kayd</td>\n",
       "      <td>Male</td>\n",
       "      <td>2020-06-03</td>\n",
       "      <td>0</td>\n",
       "      <td>Facilities/Engineering</td>\n",
       "      <td>Egypt</td>\n",
       "      <td>North</td>\n",
       "      <td>3237</td>\n",
       "      <td>38844</td>\n",
       "      <td>3.0</td>\n",
       "      <td>1</td>\n",
       "      <td>0</td>\n",
       "      <td>4</td>\n",
       "    </tr>\n",
       "    <tr>\n",
       "      <th>686</th>\n",
       "      <td>687</td>\n",
       "      <td>Khalil</td>\n",
       "      <td>Alkalu</td>\n",
       "      <td>Male</td>\n",
       "      <td>2017-07-11</td>\n",
       "      <td>3</td>\n",
       "      <td>Facilities/Engineering</td>\n",
       "      <td>Egypt</td>\n",
       "      <td>North</td>\n",
       "      <td>2819</td>\n",
       "      <td>33828</td>\n",
       "      <td>5.0</td>\n",
       "      <td>0</td>\n",
       "      <td>0</td>\n",
       "      <td>0</td>\n",
       "    </tr>\n",
       "    <tr>\n",
       "      <th>687</th>\n",
       "      <td>688</td>\n",
       "      <td>Muhamad</td>\n",
       "      <td>Shrbjy</td>\n",
       "      <td>Male</td>\n",
       "      <td>2018-05-30</td>\n",
       "      <td>2</td>\n",
       "      <td>Creative</td>\n",
       "      <td>Egypt</td>\n",
       "      <td>North</td>\n",
       "      <td>2069</td>\n",
       "      <td>24828</td>\n",
       "      <td>3.0</td>\n",
       "      <td>0</td>\n",
       "      <td>0</td>\n",
       "      <td>10</td>\n",
       "    </tr>\n",
       "    <tr>\n",
       "      <th>688</th>\n",
       "      <td>689</td>\n",
       "      <td>Abd Albasit</td>\n",
       "      <td>AlAhmar</td>\n",
       "      <td>Male</td>\n",
       "      <td>2020-08-05</td>\n",
       "      <td>0</td>\n",
       "      <td>IT</td>\n",
       "      <td>United Arab Emirates</td>\n",
       "      <td>North</td>\n",
       "      <td>2606</td>\n",
       "      <td>31272</td>\n",
       "      <td>5.0</td>\n",
       "      <td>0</td>\n",
       "      <td>0</td>\n",
       "      <td>0</td>\n",
       "    </tr>\n",
       "  </tbody>\n",
       "</table>\n",
       "<p>613 rows × 15 columns</p>\n",
       "</div>"
      ],
      "text/plain": [
       "      No   First Name Last Name  Gender Start Date  Years  \\\n",
       "3      4         Lwiy     Qbany    Male 2018-08-14      2   \n",
       "5      6      Muhamad    Zueitr    Male 2016-02-02      4   \n",
       "7      8      Muhamad     Alaya    Male 2018-02-10      2   \n",
       "10    11      Muhamad   Alqadah    Male 2018-01-16      2   \n",
       "13    14       Iilian       Dbs  Female 2016-03-01      4   \n",
       "..   ...          ...       ...     ...        ...    ...   \n",
       "684  685         Sari     Hanna    Male 2020-05-26      0   \n",
       "685  686      Eubayda      Kayd    Male 2020-06-03      0   \n",
       "686  687       Khalil    Alkalu    Male 2017-07-11      3   \n",
       "687  688      Muhamad    Shrbjy    Male 2018-05-30      2   \n",
       "688  689  Abd Albasit   AlAhmar    Male 2020-08-05      0   \n",
       "\n",
       "                 Department               Country Center  Monthly Salary  \\\n",
       "3             Manufacturing  United Arab Emirates   Main            1828   \n",
       "5       Product Development          Saudi Arabia  North            2332   \n",
       "7        Account Management                 Egypt   Main            3394   \n",
       "10            Manufacturing                 Syria   Main            1485   \n",
       "13   Facilities/Engineering  United Arab Emirates  North            3404   \n",
       "..                      ...                   ...    ...             ...   \n",
       "684               Marketing               Lebanon  South            1452   \n",
       "685  Facilities/Engineering                 Egypt  North            3237   \n",
       "686  Facilities/Engineering                 Egypt  North            2819   \n",
       "687                Creative                 Egypt  North            2069   \n",
       "688                      IT  United Arab Emirates  North            2606   \n",
       "\n",
       "     Annual Salary  Job Rate  Sick Leaves  Unpaid Leaves  Overtime Hours  \n",
       "3            21936       3.0            0              0               7  \n",
       "5            27984       3.0            3              0               8  \n",
       "7            40728       5.0            0              0               7  \n",
       "10           17820       2.0            5              0              12  \n",
       "13           40848       5.0            1              0               8  \n",
       "..             ...       ...          ...            ...             ...  \n",
       "684          17424       2.0            0              3               1  \n",
       "685          38844       3.0            1              0               4  \n",
       "686          33828       5.0            0              0               0  \n",
       "687          24828       3.0            0              0              10  \n",
       "688          31272       5.0            0              0               0  \n",
       "\n",
       "[613 rows x 15 columns]"
      ]
     },
     "execution_count": 27,
     "metadata": {},
     "output_type": "execute_result"
    }
   ],
   "source": [
    "time_outlier_df =df[(df['Overtime Hours']>lower)&(df['Overtime Hours']<upper)]\n",
    "time_outlier_df"
   ]
  },
  {
   "cell_type": "code",
   "execution_count": 152,
   "metadata": {},
   "outputs": [
    {
     "data": {
      "text/plain": [
       "<Axes: ylabel='Overtime Hours'>"
      ]
     },
     "execution_count": 152,
     "metadata": {},
     "output_type": "execute_result"
    },
    {
     "data": {
      "image/png": "[encoded data removed]",
      "text/plain": [
       "<Figure size 640x480 with 1 Axes>"
      ]
     },
     "metadata": {},
     "output_type": "display_data"
    }
   ],
   "source": [
    "sns.boxplot(time_outlier_df['Overtime Hours'],color='purple')"
   ]
  },
  {
   "cell_type": "markdown",
   "metadata": {},
   "source": [
    "- Average hours of work is 7 hours."
   ]
  },
  {
   "cell_type": "markdown",
   "metadata": {},
   "source": [
    "### Bivariate Analysis"
   ]
  },
  {
   "cell_type": "code",
   "execution_count": 29,
   "metadata": {},
   "outputs": [
    {
     "name": "stdout",
     "output_type": "stream",
     "text": [
      "<class 'pandas.core.frame.DataFrame'>\n",
      "RangeIndex: 689 entries, 0 to 688\n",
      "Data columns (total 15 columns):\n",
      " #   Column          Non-Null Count  Dtype         \n",
      "---  ------          --------------  -----         \n",
      " 0   No              689 non-null    int64         \n",
      " 1   First Name      689 non-null    object        \n",
      " 2   Last Name       689 non-null    object        \n",
      " 3   Gender          689 non-null    object        \n",
      " 4   Start Date      689 non-null    datetime64[ns]\n",
      " 5   Years           689 non-null    int64         \n",
      " 6   Department      689 non-null    object        \n",
      " 7   Country         689 non-null    object        \n",
      " 8   Center          689 non-null    object        \n",
      " 9   Monthly Salary  689 non-null    int64         \n",
      " 10  Annual Salary   689 non-null    int64         \n",
      " 11  Job Rate        689 non-null    float64       \n",
      " 12  Sick Leaves     689 non-null    int64         \n",
      " 13  Unpaid Leaves   689 non-null    int64         \n",
      " 14  Overtime Hours  689 non-null    int64         \n",
      "dtypes: datetime64[ns](1), float64(1), int64(7), object(6)\n",
      "memory usage: 80.9+ KB\n"
     ]
    }
   ],
   "source": [
    "df.info()"
   ]
  },
  {
   "cell_type": "markdown",
   "metadata": {},
   "source": [
    "#### Males vs Females"
   ]
  },
  {
   "cell_type": "code",
   "execution_count": 30,
   "metadata": {},
   "outputs": [],
   "source": [
    "femalesdf=df[df['Gender']=='Female']\n",
    "malesdf=df[df['Gender']=='Male']"
   ]
  },
  {
   "cell_type": "code",
   "execution_count": 31,
   "metadata": {},
   "outputs": [
    {
     "data": {
      "text/plain": [
       "Gender  Department            \n",
       "Female  Manufacturing             45\n",
       "        Account Management        35\n",
       "        Quality Assurance         28\n",
       "        Quality Control           28\n",
       "        Facilities/Engineering    20\n",
       "        IT                        16\n",
       "        Product Development       16\n",
       "        Marketing                 13\n",
       "        Creative                   7\n",
       "        Sales                      7\n",
       "Name: count, dtype: int64"
      ]
     },
     "execution_count": 31,
     "metadata": {},
     "output_type": "execute_result"
    }
   ],
   "source": [
    "femalesdf.groupby(['Gender'])['Department'].value_counts().nlargest(10)"
   ]
  },
  {
   "cell_type": "code",
   "execution_count": 32,
   "metadata": {},
   "outputs": [
    {
     "data": {
      "text/plain": [
       "Gender  Department            \n",
       "Male    Manufacturing             95\n",
       "        Quality Control           61\n",
       "        Account Management        49\n",
       "        Quality Assurance         39\n",
       "        Facilities/Engineering    38\n",
       "        Marketing                 35\n",
       "        IT                        24\n",
       "        Product Development       18\n",
       "        Sales                     13\n",
       "        Creative                  12\n",
       "Name: count, dtype: int64"
      ]
     },
     "execution_count": 32,
     "metadata": {},
     "output_type": "execute_result"
    }
   ],
   "source": [
    "malesdf.groupby(['Gender'])['Department'].value_counts().nlargest(10)"
   ]
  },
  {
   "cell_type": "markdown",
   "metadata": {},
   "source": [
    "- number of males are highest than number of females in every department"
   ]
  },
  {
   "cell_type": "code",
   "execution_count": 33,
   "metadata": {},
   "outputs": [
    {
     "data": {
      "text/html": [
       "<div>\n",
       "<style scoped>\n",
       "    .dataframe tbody tr th:only-of-type {\n",
       "        vertical-align: middle;\n",
       "    }\n",
       "\n",
       "    .dataframe tbody tr th {\n",
       "        vertical-align: top;\n",
       "    }\n",
       "\n",
       "    .dataframe thead th {\n",
       "        text-align: right;\n",
       "    }\n",
       "</style>\n",
       "<table border=\"1\" class=\"dataframe\">\n",
       "  <thead>\n",
       "    <tr style=\"text-align: right;\">\n",
       "      <th></th>\n",
       "      <th>count</th>\n",
       "      <th>mean</th>\n",
       "      <th>std</th>\n",
       "      <th>min</th>\n",
       "      <th>25%</th>\n",
       "      <th>50%</th>\n",
       "      <th>75%</th>\n",
       "      <th>max</th>\n",
       "    </tr>\n",
       "    <tr>\n",
       "      <th>Gender</th>\n",
       "      <th></th>\n",
       "      <th></th>\n",
       "      <th></th>\n",
       "      <th></th>\n",
       "      <th></th>\n",
       "      <th></th>\n",
       "      <th></th>\n",
       "      <th></th>\n",
       "    </tr>\n",
       "  </thead>\n",
       "  <tbody>\n",
       "    <tr>\n",
       "      <th>Female</th>\n",
       "      <td>240.0</td>\n",
       "      <td>2059.075</td>\n",
       "      <td>805.041465</td>\n",
       "      <td>705.0</td>\n",
       "      <td>1345.0</td>\n",
       "      <td>2024.0</td>\n",
       "      <td>2727.5</td>\n",
       "      <td>3446.0</td>\n",
       "    </tr>\n",
       "  </tbody>\n",
       "</table>\n",
       "</div>"
      ],
      "text/plain": [
       "        count      mean         std    min     25%     50%     75%     max\n",
       "Gender                                                                    \n",
       "Female  240.0  2059.075  805.041465  705.0  1345.0  2024.0  2727.5  3446.0"
      ]
     },
     "execution_count": 33,
     "metadata": {},
     "output_type": "execute_result"
    }
   ],
   "source": [
    "femalesdf.groupby(['Gender'])['Monthly Salary'].describe()\n"
   ]
  },
  {
   "cell_type": "code",
   "execution_count": 34,
   "metadata": {},
   "outputs": [
    {
     "data": {
      "text/html": [
       "<div>\n",
       "<style scoped>\n",
       "    .dataframe tbody tr th:only-of-type {\n",
       "        vertical-align: middle;\n",
       "    }\n",
       "\n",
       "    .dataframe tbody tr th {\n",
       "        vertical-align: top;\n",
       "    }\n",
       "\n",
       "    .dataframe thead th {\n",
       "        text-align: right;\n",
       "    }\n",
       "</style>\n",
       "<table border=\"1\" class=\"dataframe\">\n",
       "  <thead>\n",
       "    <tr style=\"text-align: right;\">\n",
       "      <th></th>\n",
       "      <th>count</th>\n",
       "      <th>mean</th>\n",
       "      <th>std</th>\n",
       "      <th>min</th>\n",
       "      <th>25%</th>\n",
       "      <th>50%</th>\n",
       "      <th>75%</th>\n",
       "      <th>max</th>\n",
       "    </tr>\n",
       "    <tr>\n",
       "      <th>Gender</th>\n",
       "      <th></th>\n",
       "      <th></th>\n",
       "      <th></th>\n",
       "      <th></th>\n",
       "      <th></th>\n",
       "      <th></th>\n",
       "      <th></th>\n",
       "      <th></th>\n",
       "    </tr>\n",
       "  </thead>\n",
       "  <tbody>\n",
       "    <tr>\n",
       "      <th>Male</th>\n",
       "      <td>449.0</td>\n",
       "      <td>2073.080178</td>\n",
       "      <td>740.884171</td>\n",
       "      <td>703.0</td>\n",
       "      <td>1459.0</td>\n",
       "      <td>2096.0</td>\n",
       "      <td>2655.0</td>\n",
       "      <td>3450.0</td>\n",
       "    </tr>\n",
       "  </tbody>\n",
       "</table>\n",
       "</div>"
      ],
      "text/plain": [
       "        count         mean         std    min     25%     50%     75%     max\n",
       "Gender                                                                       \n",
       "Male    449.0  2073.080178  740.884171  703.0  1459.0  2096.0  2655.0  3450.0"
      ]
     },
     "execution_count": 34,
     "metadata": {},
     "output_type": "execute_result"
    }
   ],
   "source": [
    "malesdf.groupby(['Gender'])['Monthly Salary'].describe()\n"
   ]
  },
  {
   "cell_type": "code",
   "execution_count": 35,
   "metadata": {},
   "outputs": [
    {
     "data": {
      "text/html": [
       "<div>\n",
       "<style scoped>\n",
       "    .dataframe tbody tr th:only-of-type {\n",
       "        vertical-align: middle;\n",
       "    }\n",
       "\n",
       "    .dataframe tbody tr th {\n",
       "        vertical-align: top;\n",
       "    }\n",
       "\n",
       "    .dataframe thead th {\n",
       "        text-align: right;\n",
       "    }\n",
       "</style>\n",
       "<table border=\"1\" class=\"dataframe\">\n",
       "  <thead>\n",
       "    <tr style=\"text-align: right;\">\n",
       "      <th></th>\n",
       "      <th>count</th>\n",
       "      <th>mean</th>\n",
       "      <th>std</th>\n",
       "      <th>min</th>\n",
       "      <th>25%</th>\n",
       "      <th>50%</th>\n",
       "      <th>75%</th>\n",
       "      <th>max</th>\n",
       "    </tr>\n",
       "    <tr>\n",
       "      <th>Gender</th>\n",
       "      <th></th>\n",
       "      <th></th>\n",
       "      <th></th>\n",
       "      <th></th>\n",
       "      <th></th>\n",
       "      <th></th>\n",
       "      <th></th>\n",
       "      <th></th>\n",
       "    </tr>\n",
       "  </thead>\n",
       "  <tbody>\n",
       "    <tr>\n",
       "      <th>Female</th>\n",
       "      <td>240.0</td>\n",
       "      <td>24708.9</td>\n",
       "      <td>9660.497578</td>\n",
       "      <td>8460.0</td>\n",
       "      <td>16140.0</td>\n",
       "      <td>24288.0</td>\n",
       "      <td>32730.0</td>\n",
       "      <td>41352.0</td>\n",
       "    </tr>\n",
       "  </tbody>\n",
       "</table>\n",
       "</div>"
      ],
      "text/plain": [
       "        count     mean          std     min      25%      50%      75%  \\\n",
       "Gender                                                                   \n",
       "Female  240.0  24708.9  9660.497578  8460.0  16140.0  24288.0  32730.0   \n",
       "\n",
       "            max  \n",
       "Gender           \n",
       "Female  41352.0  "
      ]
     },
     "execution_count": 35,
     "metadata": {},
     "output_type": "execute_result"
    }
   ],
   "source": [
    "femalesdf.groupby(['Gender'])['Annual Salary'].describe()"
   ]
  },
  {
   "cell_type": "code",
   "execution_count": 36,
   "metadata": {},
   "outputs": [
    {
     "data": {
      "text/html": [
       "<div>\n",
       "<style scoped>\n",
       "    .dataframe tbody tr th:only-of-type {\n",
       "        vertical-align: middle;\n",
       "    }\n",
       "\n",
       "    .dataframe tbody tr th {\n",
       "        vertical-align: top;\n",
       "    }\n",
       "\n",
       "    .dataframe thead th {\n",
       "        text-align: right;\n",
       "    }\n",
       "</style>\n",
       "<table border=\"1\" class=\"dataframe\">\n",
       "  <thead>\n",
       "    <tr style=\"text-align: right;\">\n",
       "      <th></th>\n",
       "      <th>count</th>\n",
       "      <th>mean</th>\n",
       "      <th>std</th>\n",
       "      <th>min</th>\n",
       "      <th>25%</th>\n",
       "      <th>50%</th>\n",
       "      <th>75%</th>\n",
       "      <th>max</th>\n",
       "    </tr>\n",
       "    <tr>\n",
       "      <th>Gender</th>\n",
       "      <th></th>\n",
       "      <th></th>\n",
       "      <th></th>\n",
       "      <th></th>\n",
       "      <th></th>\n",
       "      <th></th>\n",
       "      <th></th>\n",
       "      <th></th>\n",
       "    </tr>\n",
       "  </thead>\n",
       "  <tbody>\n",
       "    <tr>\n",
       "      <th>Male</th>\n",
       "      <td>449.0</td>\n",
       "      <td>24876.962138</td>\n",
       "      <td>8890.610055</td>\n",
       "      <td>8436.0</td>\n",
       "      <td>17508.0</td>\n",
       "      <td>25152.0</td>\n",
       "      <td>31860.0</td>\n",
       "      <td>41400.0</td>\n",
       "    </tr>\n",
       "  </tbody>\n",
       "</table>\n",
       "</div>"
      ],
      "text/plain": [
       "        count          mean          std     min      25%      50%      75%  \\\n",
       "Gender                                                                        \n",
       "Male    449.0  24876.962138  8890.610055  8436.0  17508.0  25152.0  31860.0   \n",
       "\n",
       "            max  \n",
       "Gender           \n",
       "Male    41400.0  "
      ]
     },
     "execution_count": 36,
     "metadata": {},
     "output_type": "execute_result"
    }
   ],
   "source": [
    "malesdf.groupby(['Gender'])['Annual Salary'].describe()"
   ]
  },
  {
   "cell_type": "markdown",
   "metadata": {},
   "source": [
    "- No difference between Males or Females in the Salary."
   ]
  },
  {
   "cell_type": "markdown",
   "metadata": {},
   "source": [
    "#### Year vs Salary "
   ]
  },
  {
   "cell_type": "code",
   "execution_count": 49,
   "metadata": {},
   "outputs": [
    {
     "data": {
      "text/html": [
       "<div>\n",
       "<style scoped>\n",
       "    .dataframe tbody tr th:only-of-type {\n",
       "        vertical-align: middle;\n",
       "    }\n",
       "\n",
       "    .dataframe tbody tr th {\n",
       "        vertical-align: top;\n",
       "    }\n",
       "\n",
       "    .dataframe thead th {\n",
       "        text-align: right;\n",
       "    }\n",
       "</style>\n",
       "<table border=\"1\" class=\"dataframe\">\n",
       "  <thead>\n",
       "    <tr style=\"text-align: right;\">\n",
       "      <th></th>\n",
       "      <th>count</th>\n",
       "      <th>mean</th>\n",
       "      <th>std</th>\n",
       "      <th>min</th>\n",
       "      <th>25%</th>\n",
       "      <th>50%</th>\n",
       "      <th>75%</th>\n",
       "      <th>max</th>\n",
       "    </tr>\n",
       "    <tr>\n",
       "      <th>Years</th>\n",
       "      <th></th>\n",
       "      <th></th>\n",
       "      <th></th>\n",
       "      <th></th>\n",
       "      <th></th>\n",
       "      <th></th>\n",
       "      <th></th>\n",
       "      <th></th>\n",
       "    </tr>\n",
       "  </thead>\n",
       "  <tbody>\n",
       "    <tr>\n",
       "      <th>0</th>\n",
       "      <td>153.0</td>\n",
       "      <td>2166.712418</td>\n",
       "      <td>745.013623</td>\n",
       "      <td>707.0</td>\n",
       "      <td>1676.00</td>\n",
       "      <td>2204.0</td>\n",
       "      <td>2783.00</td>\n",
       "      <td>3443.0</td>\n",
       "    </tr>\n",
       "    <tr>\n",
       "      <th>1</th>\n",
       "      <td>246.0</td>\n",
       "      <td>2046.784553</td>\n",
       "      <td>780.159543</td>\n",
       "      <td>703.0</td>\n",
       "      <td>1352.75</td>\n",
       "      <td>2062.0</td>\n",
       "      <td>2644.25</td>\n",
       "      <td>3446.0</td>\n",
       "    </tr>\n",
       "    <tr>\n",
       "      <th>2</th>\n",
       "      <td>155.0</td>\n",
       "      <td>2025.141935</td>\n",
       "      <td>749.068941</td>\n",
       "      <td>705.0</td>\n",
       "      <td>1439.00</td>\n",
       "      <td>2023.0</td>\n",
       "      <td>2541.50</td>\n",
       "      <td>3450.0</td>\n",
       "    </tr>\n",
       "    <tr>\n",
       "      <th>3</th>\n",
       "      <td>81.0</td>\n",
       "      <td>2031.456790</td>\n",
       "      <td>758.018800</td>\n",
       "      <td>711.0</td>\n",
       "      <td>1382.00</td>\n",
       "      <td>2023.0</td>\n",
       "      <td>2679.00</td>\n",
       "      <td>3388.0</td>\n",
       "    </tr>\n",
       "    <tr>\n",
       "      <th>4</th>\n",
       "      <td>52.0</td>\n",
       "      <td>2052.519231</td>\n",
       "      <td>797.557804</td>\n",
       "      <td>898.0</td>\n",
       "      <td>1424.75</td>\n",
       "      <td>2056.5</td>\n",
       "      <td>2786.00</td>\n",
       "      <td>3404.0</td>\n",
       "    </tr>\n",
       "    <tr>\n",
       "      <th>5</th>\n",
       "      <td>2.0</td>\n",
       "      <td>2399.500000</td>\n",
       "      <td>552.250396</td>\n",
       "      <td>2009.0</td>\n",
       "      <td>2204.25</td>\n",
       "      <td>2399.5</td>\n",
       "      <td>2594.75</td>\n",
       "      <td>2790.0</td>\n",
       "    </tr>\n",
       "  </tbody>\n",
       "</table>\n",
       "</div>"
      ],
      "text/plain": [
       "       count         mean         std     min      25%     50%      75%  \\\n",
       "Years                                                                     \n",
       "0      153.0  2166.712418  745.013623   707.0  1676.00  2204.0  2783.00   \n",
       "1      246.0  2046.784553  780.159543   703.0  1352.75  2062.0  2644.25   \n",
       "2      155.0  2025.141935  749.068941   705.0  1439.00  2023.0  2541.50   \n",
       "3       81.0  2031.456790  758.018800   711.0  1382.00  2023.0  2679.00   \n",
       "4       52.0  2052.519231  797.557804   898.0  1424.75  2056.5  2786.00   \n",
       "5        2.0  2399.500000  552.250396  2009.0  2204.25  2399.5  2594.75   \n",
       "\n",
       "          max  \n",
       "Years          \n",
       "0      3443.0  \n",
       "1      3446.0  \n",
       "2      3450.0  \n",
       "3      3388.0  \n",
       "4      3404.0  \n",
       "5      2790.0  "
      ]
     },
     "execution_count": 49,
     "metadata": {},
     "output_type": "execute_result"
    }
   ],
   "source": [
    "df.groupby(['Years'])['Monthly Salary'].describe()"
   ]
  },
  {
   "cell_type": "code",
   "execution_count": 50,
   "metadata": {},
   "outputs": [
    {
     "data": {
      "text/html": [
       "<div>\n",
       "<style scoped>\n",
       "    .dataframe tbody tr th:only-of-type {\n",
       "        vertical-align: middle;\n",
       "    }\n",
       "\n",
       "    .dataframe tbody tr th {\n",
       "        vertical-align: top;\n",
       "    }\n",
       "\n",
       "    .dataframe thead th {\n",
       "        text-align: right;\n",
       "    }\n",
       "</style>\n",
       "<table border=\"1\" class=\"dataframe\">\n",
       "  <thead>\n",
       "    <tr style=\"text-align: right;\">\n",
       "      <th></th>\n",
       "      <th>count</th>\n",
       "      <th>mean</th>\n",
       "      <th>std</th>\n",
       "      <th>min</th>\n",
       "      <th>25%</th>\n",
       "      <th>50%</th>\n",
       "      <th>75%</th>\n",
       "      <th>max</th>\n",
       "    </tr>\n",
       "    <tr>\n",
       "      <th>Years</th>\n",
       "      <th></th>\n",
       "      <th></th>\n",
       "      <th></th>\n",
       "      <th></th>\n",
       "      <th></th>\n",
       "      <th></th>\n",
       "      <th></th>\n",
       "      <th></th>\n",
       "    </tr>\n",
       "  </thead>\n",
       "  <tbody>\n",
       "    <tr>\n",
       "      <th>0</th>\n",
       "      <td>153.0</td>\n",
       "      <td>26000.549020</td>\n",
       "      <td>8940.163475</td>\n",
       "      <td>8484.0</td>\n",
       "      <td>20112.0</td>\n",
       "      <td>26448.0</td>\n",
       "      <td>33396.0</td>\n",
       "      <td>41316.0</td>\n",
       "    </tr>\n",
       "    <tr>\n",
       "      <th>1</th>\n",
       "      <td>246.0</td>\n",
       "      <td>24561.414634</td>\n",
       "      <td>9361.914516</td>\n",
       "      <td>8436.0</td>\n",
       "      <td>16233.0</td>\n",
       "      <td>24744.0</td>\n",
       "      <td>31731.0</td>\n",
       "      <td>41352.0</td>\n",
       "    </tr>\n",
       "    <tr>\n",
       "      <th>2</th>\n",
       "      <td>155.0</td>\n",
       "      <td>24301.703226</td>\n",
       "      <td>8988.827292</td>\n",
       "      <td>8460.0</td>\n",
       "      <td>17268.0</td>\n",
       "      <td>24276.0</td>\n",
       "      <td>30498.0</td>\n",
       "      <td>41400.0</td>\n",
       "    </tr>\n",
       "    <tr>\n",
       "      <th>3</th>\n",
       "      <td>81.0</td>\n",
       "      <td>24377.481481</td>\n",
       "      <td>9096.225601</td>\n",
       "      <td>8532.0</td>\n",
       "      <td>16584.0</td>\n",
       "      <td>24276.0</td>\n",
       "      <td>32148.0</td>\n",
       "      <td>40656.0</td>\n",
       "    </tr>\n",
       "    <tr>\n",
       "      <th>4</th>\n",
       "      <td>52.0</td>\n",
       "      <td>24630.230769</td>\n",
       "      <td>9570.693647</td>\n",
       "      <td>10776.0</td>\n",
       "      <td>17097.0</td>\n",
       "      <td>24678.0</td>\n",
       "      <td>33432.0</td>\n",
       "      <td>40848.0</td>\n",
       "    </tr>\n",
       "    <tr>\n",
       "      <th>5</th>\n",
       "      <td>2.0</td>\n",
       "      <td>28794.000000</td>\n",
       "      <td>6627.004753</td>\n",
       "      <td>24108.0</td>\n",
       "      <td>26451.0</td>\n",
       "      <td>28794.0</td>\n",
       "      <td>31137.0</td>\n",
       "      <td>33480.0</td>\n",
       "    </tr>\n",
       "  </tbody>\n",
       "</table>\n",
       "</div>"
      ],
      "text/plain": [
       "       count          mean          std      min      25%      50%      75%  \\\n",
       "Years                                                                         \n",
       "0      153.0  26000.549020  8940.163475   8484.0  20112.0  26448.0  33396.0   \n",
       "1      246.0  24561.414634  9361.914516   8436.0  16233.0  24744.0  31731.0   \n",
       "2      155.0  24301.703226  8988.827292   8460.0  17268.0  24276.0  30498.0   \n",
       "3       81.0  24377.481481  9096.225601   8532.0  16584.0  24276.0  32148.0   \n",
       "4       52.0  24630.230769  9570.693647  10776.0  17097.0  24678.0  33432.0   \n",
       "5        2.0  28794.000000  6627.004753  24108.0  26451.0  28794.0  31137.0   \n",
       "\n",
       "           max  \n",
       "Years           \n",
       "0      41316.0  \n",
       "1      41352.0  \n",
       "2      41400.0  \n",
       "3      40656.0  \n",
       "4      40848.0  \n",
       "5      33480.0  "
      ]
     },
     "execution_count": 50,
     "metadata": {},
     "output_type": "execute_result"
    }
   ],
   "source": [
    "df.groupby(['Years'])['Annual Salary'].describe()"
   ]
  },
  {
   "cell_type": "markdown",
   "metadata": {},
   "source": [
    "#### Job Rate vs Salary"
   ]
  },
  {
   "cell_type": "code",
   "execution_count": 54,
   "metadata": {},
   "outputs": [
    {
     "data": {
      "text/html": [
       "<div>\n",
       "<style scoped>\n",
       "    .dataframe tbody tr th:only-of-type {\n",
       "        vertical-align: middle;\n",
       "    }\n",
       "\n",
       "    .dataframe tbody tr th {\n",
       "        vertical-align: top;\n",
       "    }\n",
       "\n",
       "    .dataframe thead th {\n",
       "        text-align: right;\n",
       "    }\n",
       "</style>\n",
       "<table border=\"1\" class=\"dataframe\">\n",
       "  <thead>\n",
       "    <tr style=\"text-align: right;\">\n",
       "      <th></th>\n",
       "      <th>count</th>\n",
       "      <th>mean</th>\n",
       "      <th>std</th>\n",
       "      <th>min</th>\n",
       "      <th>25%</th>\n",
       "      <th>50%</th>\n",
       "      <th>75%</th>\n",
       "      <th>max</th>\n",
       "    </tr>\n",
       "    <tr>\n",
       "      <th>Job Rate</th>\n",
       "      <th></th>\n",
       "      <th></th>\n",
       "      <th></th>\n",
       "      <th></th>\n",
       "      <th></th>\n",
       "      <th></th>\n",
       "      <th></th>\n",
       "      <th></th>\n",
       "    </tr>\n",
       "  </thead>\n",
       "  <tbody>\n",
       "    <tr>\n",
       "      <th>1.0</th>\n",
       "      <td>70.0</td>\n",
       "      <td>2076.400000</td>\n",
       "      <td>787.602773</td>\n",
       "      <td>831.0</td>\n",
       "      <td>1372.00</td>\n",
       "      <td>2083.5</td>\n",
       "      <td>2752.50</td>\n",
       "      <td>3443.0</td>\n",
       "    </tr>\n",
       "    <tr>\n",
       "      <th>2.0</th>\n",
       "      <td>72.0</td>\n",
       "      <td>2051.458333</td>\n",
       "      <td>769.627822</td>\n",
       "      <td>707.0</td>\n",
       "      <td>1364.25</td>\n",
       "      <td>2069.5</td>\n",
       "      <td>2718.00</td>\n",
       "      <td>3450.0</td>\n",
       "    </tr>\n",
       "    <tr>\n",
       "      <th>3.0</th>\n",
       "      <td>208.0</td>\n",
       "      <td>2144.240385</td>\n",
       "      <td>765.379209</td>\n",
       "      <td>705.0</td>\n",
       "      <td>1562.25</td>\n",
       "      <td>2163.0</td>\n",
       "      <td>2781.75</td>\n",
       "      <td>3428.0</td>\n",
       "    </tr>\n",
       "    <tr>\n",
       "      <th>4.5</th>\n",
       "      <td>124.0</td>\n",
       "      <td>2048.516129</td>\n",
       "      <td>715.248214</td>\n",
       "      <td>703.0</td>\n",
       "      <td>1478.75</td>\n",
       "      <td>2021.5</td>\n",
       "      <td>2621.75</td>\n",
       "      <td>3354.0</td>\n",
       "    </tr>\n",
       "    <tr>\n",
       "      <th>5.0</th>\n",
       "      <td>215.0</td>\n",
       "      <td>2008.930233</td>\n",
       "      <td>778.693778</td>\n",
       "      <td>711.0</td>\n",
       "      <td>1320.00</td>\n",
       "      <td>2022.0</td>\n",
       "      <td>2595.50</td>\n",
       "      <td>3446.0</td>\n",
       "    </tr>\n",
       "  </tbody>\n",
       "</table>\n",
       "</div>"
      ],
      "text/plain": [
       "          count         mean         std    min      25%     50%      75%  \\\n",
       "Job Rate                                                                    \n",
       "1.0        70.0  2076.400000  787.602773  831.0  1372.00  2083.5  2752.50   \n",
       "2.0        72.0  2051.458333  769.627822  707.0  1364.25  2069.5  2718.00   \n",
       "3.0       208.0  2144.240385  765.379209  705.0  1562.25  2163.0  2781.75   \n",
       "4.5       124.0  2048.516129  715.248214  703.0  1478.75  2021.5  2621.75   \n",
       "5.0       215.0  2008.930233  778.693778  711.0  1320.00  2022.0  2595.50   \n",
       "\n",
       "             max  \n",
       "Job Rate          \n",
       "1.0       3443.0  \n",
       "2.0       3450.0  \n",
       "3.0       3428.0  \n",
       "4.5       3354.0  \n",
       "5.0       3446.0  "
      ]
     },
     "execution_count": 54,
     "metadata": {},
     "output_type": "execute_result"
    }
   ],
   "source": [
    "df.groupby(['Job Rate'])['Monthly Salary'].describe()\n"
   ]
  },
  {
   "cell_type": "markdown",
   "metadata": {},
   "source": [
    "- As we can see there are no difference between low or high Job Rate by Salary i can tell that this is why there are low number of employees with high years."
   ]
  },
  {
   "cell_type": "markdown",
   "metadata": {},
   "source": [
    "#### Unpaid Leaves vs Salary"
   ]
  },
  {
   "cell_type": "code",
   "execution_count": 70,
   "metadata": {},
   "outputs": [
    {
     "data": {
      "text/html": [
       "<div>\n",
       "<style scoped>\n",
       "    .dataframe tbody tr th:only-of-type {\n",
       "        vertical-align: middle;\n",
       "    }\n",
       "\n",
       "    .dataframe tbody tr th {\n",
       "        vertical-align: top;\n",
       "    }\n",
       "\n",
       "    .dataframe thead th {\n",
       "        text-align: right;\n",
       "    }\n",
       "</style>\n",
       "<table border=\"1\" class=\"dataframe\">\n",
       "  <thead>\n",
       "    <tr style=\"text-align: right;\">\n",
       "      <th></th>\n",
       "      <th>count</th>\n",
       "      <th>mean</th>\n",
       "      <th>std</th>\n",
       "      <th>min</th>\n",
       "      <th>25%</th>\n",
       "      <th>50%</th>\n",
       "      <th>75%</th>\n",
       "      <th>max</th>\n",
       "    </tr>\n",
       "    <tr>\n",
       "      <th>Unpaid Leaves</th>\n",
       "      <th></th>\n",
       "      <th></th>\n",
       "      <th></th>\n",
       "      <th></th>\n",
       "      <th></th>\n",
       "      <th></th>\n",
       "      <th></th>\n",
       "      <th></th>\n",
       "    </tr>\n",
       "  </thead>\n",
       "  <tbody>\n",
       "    <tr>\n",
       "      <th>0</th>\n",
       "      <td>541.0</td>\n",
       "      <td>24714.077634</td>\n",
       "      <td>9198.358944</td>\n",
       "      <td>8436.0</td>\n",
       "      <td>17172.0</td>\n",
       "      <td>24912.0</td>\n",
       "      <td>31968.0</td>\n",
       "      <td>41352.0</td>\n",
       "    </tr>\n",
       "    <tr>\n",
       "      <th>1</th>\n",
       "      <td>26.0</td>\n",
       "      <td>26207.538462</td>\n",
       "      <td>8981.716135</td>\n",
       "      <td>9168.0</td>\n",
       "      <td>23109.0</td>\n",
       "      <td>25392.0</td>\n",
       "      <td>33720.0</td>\n",
       "      <td>38532.0</td>\n",
       "    </tr>\n",
       "    <tr>\n",
       "      <th>2</th>\n",
       "      <td>20.0</td>\n",
       "      <td>24961.800000</td>\n",
       "      <td>9258.530380</td>\n",
       "      <td>9972.0</td>\n",
       "      <td>17859.0</td>\n",
       "      <td>25560.0</td>\n",
       "      <td>30579.0</td>\n",
       "      <td>40044.0</td>\n",
       "    </tr>\n",
       "    <tr>\n",
       "      <th>3</th>\n",
       "      <td>22.0</td>\n",
       "      <td>24561.272727</td>\n",
       "      <td>8822.895876</td>\n",
       "      <td>9408.0</td>\n",
       "      <td>17010.0</td>\n",
       "      <td>24642.0</td>\n",
       "      <td>29940.0</td>\n",
       "      <td>40692.0</td>\n",
       "    </tr>\n",
       "    <tr>\n",
       "      <th>4</th>\n",
       "      <td>30.0</td>\n",
       "      <td>24606.000000</td>\n",
       "      <td>9662.950717</td>\n",
       "      <td>11316.0</td>\n",
       "      <td>16746.0</td>\n",
       "      <td>23598.0</td>\n",
       "      <td>34293.0</td>\n",
       "      <td>41400.0</td>\n",
       "    </tr>\n",
       "    <tr>\n",
       "      <th>5</th>\n",
       "      <td>29.0</td>\n",
       "      <td>25148.275862</td>\n",
       "      <td>8426.895780</td>\n",
       "      <td>11640.0</td>\n",
       "      <td>18648.0</td>\n",
       "      <td>24240.0</td>\n",
       "      <td>31020.0</td>\n",
       "      <td>39168.0</td>\n",
       "    </tr>\n",
       "    <tr>\n",
       "      <th>6</th>\n",
       "      <td>21.0</td>\n",
       "      <td>25767.428571</td>\n",
       "      <td>9933.277267</td>\n",
       "      <td>12432.0</td>\n",
       "      <td>15996.0</td>\n",
       "      <td>30504.0</td>\n",
       "      <td>34320.0</td>\n",
       "      <td>39516.0</td>\n",
       "    </tr>\n",
       "  </tbody>\n",
       "</table>\n",
       "</div>"
      ],
      "text/plain": [
       "               count          mean          std      min      25%      50%  \\\n",
       "Unpaid Leaves                                                                \n",
       "0              541.0  24714.077634  9198.358944   8436.0  17172.0  24912.0   \n",
       "1               26.0  26207.538462  8981.716135   9168.0  23109.0  25392.0   \n",
       "2               20.0  24961.800000  9258.530380   9972.0  17859.0  25560.0   \n",
       "3               22.0  24561.272727  8822.895876   9408.0  17010.0  24642.0   \n",
       "4               30.0  24606.000000  9662.950717  11316.0  16746.0  23598.0   \n",
       "5               29.0  25148.275862  8426.895780  11640.0  18648.0  24240.0   \n",
       "6               21.0  25767.428571  9933.277267  12432.0  15996.0  30504.0   \n",
       "\n",
       "                   75%      max  \n",
       "Unpaid Leaves                    \n",
       "0              31968.0  41352.0  \n",
       "1              33720.0  38532.0  \n",
       "2              30579.0  40044.0  \n",
       "3              29940.0  40692.0  \n",
       "4              34293.0  41400.0  \n",
       "5              31020.0  39168.0  \n",
       "6              34320.0  39516.0  "
      ]
     },
     "execution_count": 70,
     "metadata": {},
     "output_type": "execute_result"
    }
   ],
   "source": [
    "df.groupby(['Unpaid Leaves'])['Annual Salary'].describe()"
   ]
  },
  {
   "cell_type": "markdown",
   "metadata": {},
   "source": [
    "- Unpaid Leaves don't affect on the salary"
   ]
  },
  {
   "cell_type": "code",
   "execution_count": 135,
   "metadata": {},
   "outputs": [
    {
     "data": {
      "image/png": "[encoded data removed]",
      "text/plain": [
       "<Figure size 1000x600 with 1 Axes>"
      ]
     },
     "metadata": {},
     "output_type": "display_data"
    }
   ],
   "source": [
    "plt.figure(figsize=(10, 6))\n",
    "sns.scatterplot(x=df['Overtime Hours'], y=df['Monthly Salary'], hue=df['Department'], palette='inferno')\n",
    "plt.title('Overtime Hours vs. Monthly Salary')\n",
    "plt.xlabel('Overtime Hours')\n",
    "plt.ylabel('Monthly Salary')\n",
    "plt.show()"
   ]
  },
  {
   "cell_type": "markdown",
   "metadata": {},
   "source": [
    "- No strong link between overtime hours and monthly salary"
   ]
  },
  {
   "cell_type": "markdown",
   "metadata": {},
   "source": [
    "#### Average Salary by Department "
   ]
  },
  {
   "cell_type": "code",
   "execution_count": 115,
   "metadata": {},
   "outputs": [
    {
     "data": {
      "text/html": [
       "<div>\n",
       "<style scoped>\n",
       "    .dataframe tbody tr th:only-of-type {\n",
       "        vertical-align: middle;\n",
       "    }\n",
       "\n",
       "    .dataframe tbody tr th {\n",
       "        vertical-align: top;\n",
       "    }\n",
       "\n",
       "    .dataframe thead th {\n",
       "        text-align: right;\n",
       "    }\n",
       "</style>\n",
       "<table border=\"1\" class=\"dataframe\">\n",
       "  <thead>\n",
       "    <tr style=\"text-align: right;\">\n",
       "      <th></th>\n",
       "      <th>count</th>\n",
       "      <th>mean</th>\n",
       "      <th>std</th>\n",
       "      <th>min</th>\n",
       "      <th>25%</th>\n",
       "      <th>50%</th>\n",
       "      <th>75%</th>\n",
       "      <th>max</th>\n",
       "    </tr>\n",
       "    <tr>\n",
       "      <th>Department</th>\n",
       "      <th></th>\n",
       "      <th></th>\n",
       "      <th></th>\n",
       "      <th></th>\n",
       "      <th></th>\n",
       "      <th></th>\n",
       "      <th></th>\n",
       "      <th></th>\n",
       "    </tr>\n",
       "  </thead>\n",
       "  <tbody>\n",
       "    <tr>\n",
       "      <th>Account Management</th>\n",
       "      <td>84.0</td>\n",
       "      <td>1937.166667</td>\n",
       "      <td>765.148979</td>\n",
       "      <td>703.0</td>\n",
       "      <td>1227.50</td>\n",
       "      <td>2017.5</td>\n",
       "      <td>2571.50</td>\n",
       "      <td>3450.0</td>\n",
       "    </tr>\n",
       "    <tr>\n",
       "      <th>Creative</th>\n",
       "      <td>19.0</td>\n",
       "      <td>2011.315789</td>\n",
       "      <td>597.040577</td>\n",
       "      <td>943.0</td>\n",
       "      <td>1610.00</td>\n",
       "      <td>2188.0</td>\n",
       "      <td>2339.50</td>\n",
       "      <td>3388.0</td>\n",
       "    </tr>\n",
       "    <tr>\n",
       "      <th>Environmental Compliance</th>\n",
       "      <td>13.0</td>\n",
       "      <td>2508.153846</td>\n",
       "      <td>639.371155</td>\n",
       "      <td>1161.0</td>\n",
       "      <td>2169.00</td>\n",
       "      <td>2539.0</td>\n",
       "      <td>3084.00</td>\n",
       "      <td>3354.0</td>\n",
       "    </tr>\n",
       "    <tr>\n",
       "      <th>Environmental Health/Safety</th>\n",
       "      <td>9.0</td>\n",
       "      <td>2000.444444</td>\n",
       "      <td>562.626011</td>\n",
       "      <td>1430.0</td>\n",
       "      <td>1521.00</td>\n",
       "      <td>1971.0</td>\n",
       "      <td>2191.00</td>\n",
       "      <td>3120.0</td>\n",
       "    </tr>\n",
       "    <tr>\n",
       "      <th>Facilities/Engineering</th>\n",
       "      <td>58.0</td>\n",
       "      <td>2285.275862</td>\n",
       "      <td>788.418532</td>\n",
       "      <td>822.0</td>\n",
       "      <td>1619.25</td>\n",
       "      <td>2445.0</td>\n",
       "      <td>2921.25</td>\n",
       "      <td>3404.0</td>\n",
       "    </tr>\n",
       "    <tr>\n",
       "      <th>Green Building</th>\n",
       "      <td>8.0</td>\n",
       "      <td>2082.875000</td>\n",
       "      <td>881.251130</td>\n",
       "      <td>969.0</td>\n",
       "      <td>1392.75</td>\n",
       "      <td>1988.0</td>\n",
       "      <td>2869.50</td>\n",
       "      <td>3275.0</td>\n",
       "    </tr>\n",
       "    <tr>\n",
       "      <th>Human Resources</th>\n",
       "      <td>7.0</td>\n",
       "      <td>2555.857143</td>\n",
       "      <td>457.867677</td>\n",
       "      <td>1881.0</td>\n",
       "      <td>2299.50</td>\n",
       "      <td>2428.0</td>\n",
       "      <td>2945.00</td>\n",
       "      <td>3093.0</td>\n",
       "    </tr>\n",
       "    <tr>\n",
       "      <th>IT</th>\n",
       "      <td>40.0</td>\n",
       "      <td>2114.525000</td>\n",
       "      <td>756.902832</td>\n",
       "      <td>711.0</td>\n",
       "      <td>1654.25</td>\n",
       "      <td>2019.5</td>\n",
       "      <td>2813.00</td>\n",
       "      <td>3258.0</td>\n",
       "    </tr>\n",
       "    <tr>\n",
       "      <th>Major Mfg Projects</th>\n",
       "      <td>8.0</td>\n",
       "      <td>2242.375000</td>\n",
       "      <td>759.572424</td>\n",
       "      <td>997.0</td>\n",
       "      <td>1940.75</td>\n",
       "      <td>2435.0</td>\n",
       "      <td>2532.25</td>\n",
       "      <td>3446.0</td>\n",
       "    </tr>\n",
       "    <tr>\n",
       "      <th>Manufacturing</th>\n",
       "      <td>140.0</td>\n",
       "      <td>2004.635714</td>\n",
       "      <td>735.409779</td>\n",
       "      <td>719.0</td>\n",
       "      <td>1438.75</td>\n",
       "      <td>1971.0</td>\n",
       "      <td>2642.00</td>\n",
       "      <td>3411.0</td>\n",
       "    </tr>\n",
       "    <tr>\n",
       "      <th>Manufacturing Admin</th>\n",
       "      <td>5.0</td>\n",
       "      <td>1921.000000</td>\n",
       "      <td>528.453877</td>\n",
       "      <td>1290.0</td>\n",
       "      <td>1405.00</td>\n",
       "      <td>2207.0</td>\n",
       "      <td>2342.00</td>\n",
       "      <td>2361.0</td>\n",
       "    </tr>\n",
       "    <tr>\n",
       "      <th>Marketing</th>\n",
       "      <td>48.0</td>\n",
       "      <td>2061.125000</td>\n",
       "      <td>848.821727</td>\n",
       "      <td>707.0</td>\n",
       "      <td>1361.25</td>\n",
       "      <td>1983.5</td>\n",
       "      <td>2928.75</td>\n",
       "      <td>3410.0</td>\n",
       "    </tr>\n",
       "    <tr>\n",
       "      <th>Product Development</th>\n",
       "      <td>34.0</td>\n",
       "      <td>1964.705882</td>\n",
       "      <td>821.324633</td>\n",
       "      <td>744.0</td>\n",
       "      <td>1095.50</td>\n",
       "      <td>2058.0</td>\n",
       "      <td>2475.25</td>\n",
       "      <td>3337.0</td>\n",
       "    </tr>\n",
       "    <tr>\n",
       "      <th>Professional Training Group</th>\n",
       "      <td>14.0</td>\n",
       "      <td>2040.428571</td>\n",
       "      <td>793.097308</td>\n",
       "      <td>830.0</td>\n",
       "      <td>1325.25</td>\n",
       "      <td>2032.0</td>\n",
       "      <td>2614.75</td>\n",
       "      <td>3282.0</td>\n",
       "    </tr>\n",
       "    <tr>\n",
       "      <th>Quality Assurance</th>\n",
       "      <td>67.0</td>\n",
       "      <td>2083.925373</td>\n",
       "      <td>792.073350</td>\n",
       "      <td>840.0</td>\n",
       "      <td>1303.50</td>\n",
       "      <td>2115.0</td>\n",
       "      <td>2681.00</td>\n",
       "      <td>3420.0</td>\n",
       "    </tr>\n",
       "    <tr>\n",
       "      <th>Quality Control</th>\n",
       "      <td>89.0</td>\n",
       "      <td>2053.955056</td>\n",
       "      <td>749.088430</td>\n",
       "      <td>723.0</td>\n",
       "      <td>1436.00</td>\n",
       "      <td>2136.0</td>\n",
       "      <td>2581.00</td>\n",
       "      <td>3443.0</td>\n",
       "    </tr>\n",
       "    <tr>\n",
       "      <th>Research Center</th>\n",
       "      <td>5.0</td>\n",
       "      <td>1887.000000</td>\n",
       "      <td>968.271140</td>\n",
       "      <td>1096.0</td>\n",
       "      <td>1226.00</td>\n",
       "      <td>1230.0</td>\n",
       "      <td>2815.00</td>\n",
       "      <td>3068.0</td>\n",
       "    </tr>\n",
       "    <tr>\n",
       "      <th>Research/Development</th>\n",
       "      <td>5.0</td>\n",
       "      <td>2098.600000</td>\n",
       "      <td>854.708020</td>\n",
       "      <td>833.0</td>\n",
       "      <td>1856.00</td>\n",
       "      <td>2132.0</td>\n",
       "      <td>2542.00</td>\n",
       "      <td>3130.0</td>\n",
       "    </tr>\n",
       "    <tr>\n",
       "      <th>Sales</th>\n",
       "      <td>20.0</td>\n",
       "      <td>1956.450000</td>\n",
       "      <td>737.816799</td>\n",
       "      <td>808.0</td>\n",
       "      <td>1465.25</td>\n",
       "      <td>1973.5</td>\n",
       "      <td>2383.75</td>\n",
       "      <td>3311.0</td>\n",
       "    </tr>\n",
       "    <tr>\n",
       "      <th>Training</th>\n",
       "      <td>16.0</td>\n",
       "      <td>2361.750000</td>\n",
       "      <td>808.849595</td>\n",
       "      <td>812.0</td>\n",
       "      <td>1878.75</td>\n",
       "      <td>2386.5</td>\n",
       "      <td>3115.50</td>\n",
       "      <td>3334.0</td>\n",
       "    </tr>\n",
       "  </tbody>\n",
       "</table>\n",
       "</div>"
      ],
      "text/plain": [
       "                             count         mean         std     min      25%  \\\n",
       "Department                                                                     \n",
       "Account Management            84.0  1937.166667  765.148979   703.0  1227.50   \n",
       "Creative                      19.0  2011.315789  597.040577   943.0  1610.00   \n",
       "Environmental Compliance      13.0  2508.153846  639.371155  1161.0  2169.00   \n",
       "Environmental Health/Safety    9.0  2000.444444  562.626011  1430.0  1521.00   \n",
       "Facilities/Engineering        58.0  2285.275862  788.418532   822.0  1619.25   \n",
       "Green Building                 8.0  2082.875000  881.251130   969.0  1392.75   \n",
       "Human Resources                7.0  2555.857143  457.867677  1881.0  2299.50   \n",
       "IT                            40.0  2114.525000  756.902832   711.0  1654.25   \n",
       "Major Mfg Projects             8.0  2242.375000  759.572424   997.0  1940.75   \n",
       "Manufacturing                140.0  2004.635714  735.409779   719.0  1438.75   \n",
       "Manufacturing Admin            5.0  1921.000000  528.453877  1290.0  1405.00   \n",
       "Marketing                     48.0  2061.125000  848.821727   707.0  1361.25   \n",
       "Product Development           34.0  1964.705882  821.324633   744.0  1095.50   \n",
       "Professional Training Group   14.0  2040.428571  793.097308   830.0  1325.25   \n",
       "Quality Assurance             67.0  2083.925373  792.073350   840.0  1303.50   \n",
       "Quality Control               89.0  2053.955056  749.088430   723.0  1436.00   \n",
       "Research Center                5.0  1887.000000  968.271140  1096.0  1226.00   \n",
       "Research/Development           5.0  2098.600000  854.708020   833.0  1856.00   \n",
       "Sales                         20.0  1956.450000  737.816799   808.0  1465.25   \n",
       "Training                      16.0  2361.750000  808.849595   812.0  1878.75   \n",
       "\n",
       "                                50%      75%     max  \n",
       "Department                                            \n",
       "Account Management           2017.5  2571.50  3450.0  \n",
       "Creative                     2188.0  2339.50  3388.0  \n",
       "Environmental Compliance     2539.0  3084.00  3354.0  \n",
       "Environmental Health/Safety  1971.0  2191.00  3120.0  \n",
       "Facilities/Engineering       2445.0  2921.25  3404.0  \n",
       "Green Building               1988.0  2869.50  3275.0  \n",
       "Human Resources              2428.0  2945.00  3093.0  \n",
       "IT                           2019.5  2813.00  3258.0  \n",
       "Major Mfg Projects           2435.0  2532.25  3446.0  \n",
       "Manufacturing                1971.0  2642.00  3411.0  \n",
       "Manufacturing Admin          2207.0  2342.00  2361.0  \n",
       "Marketing                    1983.5  2928.75  3410.0  \n",
       "Product Development          2058.0  2475.25  3337.0  \n",
       "Professional Training Group  2032.0  2614.75  3282.0  \n",
       "Quality Assurance            2115.0  2681.00  3420.0  \n",
       "Quality Control              2136.0  2581.00  3443.0  \n",
       "Research Center              1230.0  2815.00  3068.0  \n",
       "Research/Development         2132.0  2542.00  3130.0  \n",
       "Sales                        1973.5  2383.75  3311.0  \n",
       "Training                     2386.5  3115.50  3334.0  "
      ]
     },
     "execution_count": 115,
     "metadata": {},
     "output_type": "execute_result"
    }
   ],
   "source": [
    "df.groupby(['Department'])['Monthly Salary'].describe()"
   ]
  },
  {
   "cell_type": "code",
   "execution_count": 129,
   "metadata": {},
   "outputs": [
    {
     "name": "stdout",
     "output_type": "stream",
     "text": [
      "Human Resources , 2555.86\n"
     ]
    }
   ],
   "source": [
    "averageSalaryByDepartment = df.groupby('Department')['Monthly Salary'].mean()\n",
    "mostPaidDepartment = averageSalaryByDepartment.idxmax()\n",
    "highestAverageSalary = averageSalaryByDepartment.max()\n",
    "\n",
    "print(f\"{mostPaidDepartment} , {highestAverageSalary:.2f}\")\n"
   ]
  },
  {
   "cell_type": "markdown",
   "metadata": {},
   "source": [
    "- The department with the highest average salary is Human Resources, with an average salary of 2555.86."
   ]
  },
  {
   "cell_type": "code",
   "execution_count": 126,
   "metadata": {},
   "outputs": [
    {
     "data": {
      "image/png": "[encoded data removed]",
      "text/plain": [
       "<Figure size 1000x800 with 1 Axes>"
      ]
     },
     "metadata": {},
     "output_type": "display_data"
    }
   ],
   "source": [
    "sortedSalary = averageSalaryByDepartment.sort_values(ascending=False).head(5)\n",
    "plt.figure(figsize=(10, 8))\n",
    "sns.barplot(x=sortedSalary.values, y=sortedSalary.index,hue=sortedSalary ,palette='plasma',legend=False)\n",
    "plt.title('Top 5 paid Departments')\n",
    "plt.xlabel('Average Monthly Salary')\n",
    "plt.ylabel('Department')\n",
    "plt.show()"
   ]
  },
  {
   "cell_type": "markdown",
   "metadata": {},
   "source": [
    "- Top 5 Paid Departments"
   ]
  },
  {
   "cell_type": "code",
   "execution_count": 134,
   "metadata": {},
   "outputs": [],
   "source": [
    "#df.groupby(['Department'])['Country'].value_counts()"
   ]
  },
  {
   "cell_type": "markdown",
   "metadata": {},
   "source": [
    "#### Overtime by Department"
   ]
  },
  {
   "cell_type": "code",
   "execution_count": 133,
   "metadata": {},
   "outputs": [
    {
     "data": {
      "text/plain": [
       "Department\n",
       "Quality Control                1700\n",
       "Manufacturing                  1699\n",
       "Account Management             1264\n",
       "Quality Assurance               771\n",
       "Facilities/Engineering          605\n",
       "IT                              523\n",
       "Sales                           466\n",
       "Training                        386\n",
       "Creative                        332\n",
       "Marketing                       332\n",
       "Major Mfg Projects              309\n",
       "Product Development             219\n",
       "Professional Training Group     219\n",
       "Green Building                  147\n",
       "Environmental Compliance        145\n",
       "Manufacturing Admin             130\n",
       "Human Resources                 119\n",
       "Environmental Health/Safety      33\n",
       "Research Center                  27\n",
       "Research/Development             15\n",
       "Name: Overtime Hours, dtype: int64"
      ]
     },
     "execution_count": 133,
     "metadata": {},
     "output_type": "execute_result"
    }
   ],
   "source": [
    "overtimeByDepartment = df.groupby('Department')['Overtime Hours'].sum().sort_values(ascending=False)\n",
    "overtimeByDepartment"
   ]
  },
  {
   "cell_type": "markdown",
   "metadata": {},
   "source": [
    "- Quality Control & Manufacturing have the most overtime hours"
   ]
  },
  {
   "cell_type": "markdown",
   "metadata": {},
   "source": [
    "#### Country and Center Impact on Salary"
   ]
  },
  {
   "cell_type": "code",
   "execution_count": 148,
   "metadata": {},
   "outputs": [
    {
     "data": {
      "image/png": "[encoded data removed]",
      "text/plain": [
       "<Figure size 1000x600 with 1 Axes>"
      ]
     },
     "metadata": {},
     "output_type": "display_data"
    }
   ],
   "source": [
    "avgSalaryDF = df.groupby(['Country', 'Center'])['Monthly Salary'].mean().reset_index()\n",
    "#avgSalaryDF\n",
    "plt.figure(figsize=(10, 6))\n",
    "sns.barplot(x='Country', y='Monthly Salary', hue='Center', data=avgSalaryDF, palette='magma')\n",
    "plt.title('Average Monthly Salary by Country and Center')\n",
    "plt.xlabel('Country')\n",
    "plt.ylabel('Average Monthly Salary')\n",
    "plt.xticks(rotation=45)\n",
    "plt.legend(title='Center', bbox_to_anchor=(1, 1), loc='upper left')\n",
    "plt.show()"
   ]
  },
  {
   "cell_type": "markdown",
   "metadata": {},
   "source": [
    "- Average Monthly salary in Egypt in the East Center.\n",
    "- Average Monthly salary in Lebanon in the Main Center.\n",
    "- Average Monthly salary in Saudi Arabia in the West Center.\n",
    "- Average Monthly salary in UAE in the East Center."
   ]
  }
 ],
 "metadata": {
  "kernelspec": {
   "display_name": "Python 3",
   "language": "python",
   "name": "python3"
  },
  "language_info": {
   "codemirror_mode": {
    "name": "ipython",
    "version": 3
   },
   "file_extension": ".py",
   "mimetype": "text/x-python",
   "name": "python",
   "nbconvert_exporter": "python",
   "pygments_lexer": "ipython3",
   "version": "3.12.5"
  }
 },
 "nbformat": 4,
 "nbformat_minor": 2
}
